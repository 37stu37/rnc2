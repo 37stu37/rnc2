{
  "nbformat": 4,
  "nbformat_minor": 0,
  "metadata": {
    "kernelspec": {
      "display_name": "Python 3",
      "language": "python",
      "name": "python3"
    },
    "language_info": {
      "codemirror_mode": {
        "name": "ipython",
        "version": 3
      },
      "file_extension": ".py",
      "mimetype": "text/x-python",
      "name": "python",
      "nbconvert_exporter": "python",
      "pygments_lexer": "ipython3",
      "version": "3.7.3"
    },
    "colab": {
      "name": "temporal_network_try.ipynb",
      "provenance": [],
      "include_colab_link": true
    }
  },
  "cells": [
    {
      "cell_type": "markdown",
      "metadata": {
        "id": "view-in-github",
        "colab_type": "text"
      },
      "source": [
        "<a href=\"https://colab.research.google.com/github/37stu37/rnc2/blob/master/temporal_network_try.ipynb\" target=\"_parent\"><img src=\"https://colab.research.google.com/assets/colab-badge.svg\" alt=\"Open In Colab\"/></a>"
      ]
    },
    {
      "cell_type": "code",
      "metadata": {
        "id": "Q60FM7ZmLRAp",
        "colab_type": "code",
        "outputId": "948e3088-8234-497b-c5e9-35fbee5b8634",
        "colab": {
          "base_uri": "https://localhost:8080/",
          "height": 34
        }
      },
      "source": [
        "from google.colab import drive\n",
        "drive.mount('/content/drive')"
      ],
      "execution_count": 1,
      "outputs": [
        {
          "output_type": "stream",
          "text": [
            "Drive already mounted at /content/drive; to attempt to forcibly remount, call drive.mount(\"/content/drive\", force_remount=True).\n"
          ],
          "name": "stdout"
        }
      ]
    },
    {
      "cell_type": "code",
      "metadata": {
        "id": "QwN1tG-GAdVi",
        "colab_type": "code",
        "colab": {}
      },
      "source": [
        "%%capture\n",
        "!pip install memory_profiler"
      ],
      "execution_count": 0,
      "outputs": []
    },
    {
      "cell_type": "code",
      "metadata": {
        "id": "7O35x2t8T4Dk",
        "colab_type": "code",
        "colab": {}
      },
      "source": [
        "import numpy as np\n",
        "import pandas as pd\n",
        "from pathlib import Path\n",
        "import memory_profiler as mem_profile\n",
        "\n",
        "pd.options.mode.chained_assignment = None  # default='warn'"
      ],
      "execution_count": 0,
      "outputs": []
    },
    {
      "cell_type": "code",
      "metadata": {
        "id": "NQZTDiIo1CX_",
        "colab_type": "code",
        "colab": {}
      },
      "source": [
        "# import data\n",
        "folder = Path('/content/drive/My Drive/04_Cloud/01_Work/GNS/008_FFE/runs')\n",
        "edge_file = folder / 'data' / 'Copy of edge_data.parquet'\n",
        "wind_file = folder / 'data' / 'Copy of GD_wind.csv'\n",
        "\n",
        "wind_data = pd.read_csv(wind_file) \n",
        "edgelist = pd.read_parquet(edge_file, engine='pyarrow')"
      ],
      "execution_count": 0,
      "outputs": []
    },
    {
      "cell_type": "code",
      "metadata": {
        "id": "pLBvdq4kFYnH",
        "colab_type": "code",
        "colab": {}
      },
      "source": [
        "# %%timeit\n",
        "def wind_scenario(wind_data):\n",
        "      i = np.random.randint(0, wind_data.values.shape[0])\n",
        "      w = wind_data.values[i, 2]\n",
        "      dist = wind_data.values[i, 1]\n",
        "      b = wind_data.values[i, 3]\n",
        "      bear_max = b + 45  # wind direction\n",
        "      bear_min = b - 45\n",
        "      if b == 360:\n",
        "          bear_max = 45\n",
        "      if b <= 0:  # should not be necessary\n",
        "          bear_min = 0\n",
        "      if b == 999:\n",
        "          bear_max = 999\n",
        "          bear_min = 0\n",
        "      return bear_max, bear_min, dist # wind characteristics, bearing and distance\n",
        "\n",
        "\n",
        "def ignition(edges=edgelist):\n",
        "    rng = np.random.uniform(0, 1, size=edges.values.shape[0])\n",
        "    mask = rng < edges.IgnProb_bl.values\n",
        "    NewActiveEdges = edges[mask]\n",
        "    return NewActiveEdges\n",
        "\n",
        "\n",
        "def mask(t, activeEdges_d, listActivatedSources_d, w_b_max, w_b_min, w_d):\n",
        "    if t==0: # special case at time=0\n",
        "        return activeEdges_d\n",
        "    else:\n",
        "        mask = (activeEdges_d.bearing.values < w_b_max) & (activeEdges_d.bearing.values < w_b_min) & (activeEdges_d.distance < w_d)\n",
        "        NewActiveEdges = activeEdges_d[mask]\n",
        "        NewActiveEdges = NewActiveEdges[~NewActiveEdges.source.isin(listActivatedSources_d)]\n",
        "        return NewActiveEdges\n",
        "\n",
        "\n",
        "def propagation(activeEdges_d, edges=edgelist):\n",
        "    NewActiveEdges = edges[edges.source.isin(activeEdges_d.target)]\n",
        "    return NewActiveEdges\n"
      ],
      "execution_count": 0,
      "outputs": []
    },
    {
      "cell_type": "markdown",
      "metadata": {
        "id": "g9Vq0cczZSy4",
        "colab_type": "text"
      },
      "source": [
        "**Main**\n",
        "\n",
        "\n",
        "---\n",
        "\n"
      ]
    },
    {
      "cell_type": "code",
      "metadata": {
        "id": "Q7pHNrjZN8Zw",
        "colab_type": "code",
        "colab": {}
      },
      "source": [
        "%%time\n",
        "n=1000\n",
        "listScenarioDataframes = []\n",
        "for scenario in range(n):\n",
        "    # initial setup\n",
        "    condition = True\n",
        "    # listScenarioDataframes = []\n",
        "    listActivatedSources = []\n",
        "    time = 0 \n",
        "    # wind conditions\n",
        "    w_bearing_max, w_bearing_min, w_distance = wind_scenario(wind_data)\n",
        "    # ignition / initial state and edges selection\n",
        "    ActiveEdges = ignition()\n",
        "    if ActiveEdges.empty:\n",
        "        continue\n",
        "    while condition:\n",
        "        ActiveEdges = mask(time, ActiveEdges, listActivatedSources, w_bearing_max, w_bearing_min, w_distance)\n",
        "        if ActiveEdges.empty:\n",
        "            break\n",
        "        listScenarioDataframes.append(ActiveEdges)\n",
        "        listActivatedSources.extend(ActiveEdges.source.values)\n",
        "        ActiveEdges = propagation(ActiveEdges)\n",
        "        # advance time\n",
        "        time += 1\n",
        "    print(\"scenario : {} time : {} memory : {} MB\".format(scenario, time, mem_profile.memory_usage())))\n",
        "    if mem_profile.memory_usage() > 2000:\n",
        "        # if while loop broken, save activation for the scenario\n",
        "        Activations = pd.concat(listScenarioDataframes)\n",
        "        Activations.to_parquet(folder / 'output' / 'scenario{}_time{}_Activations.parquet'.format(scenario), engine='pyarrow')\n",
        "        print(\"flushing out memory\")\n",
        "        listScenarioDataframes = []\n",
        "Activations = pd.concat(listScenarioDataframes)\n",
        "Activations.to_parquet(folder / 'output' / 'scenario{}_time{}_Activations.parquet'.format(scenario), engine='pyarrow')  "
      ],
      "execution_count": 0,
      "outputs": []
    },
    {
      "cell_type": "code",
      "metadata": {
        "id": "Ma-GWm2KZpT_",
        "colab_type": "code",
        "colab": {}
      },
      "source": [
        ""
      ],
      "execution_count": 0,
      "outputs": []
    }
  ]
}