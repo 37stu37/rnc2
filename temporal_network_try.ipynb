{
  "nbformat": 4,
  "nbformat_minor": 0,
  "metadata": {
    "kernelspec": {
      "display_name": "Python 3",
      "language": "python",
      "name": "python3"
    },
    "language_info": {
      "codemirror_mode": {
        "name": "ipython",
        "version": 3
      },
      "file_extension": ".py",
      "mimetype": "text/x-python",
      "name": "python",
      "nbconvert_exporter": "python",
      "pygments_lexer": "ipython3",
      "version": "3.7.3"
    },
    "colab": {
      "name": "temporal_network_try.ipynb",
      "provenance": [],
      "include_colab_link": true
    }
  },
  "cells": [
    {
      "cell_type": "markdown",
      "metadata": {
        "id": "view-in-github",
        "colab_type": "text"
      },
      "source": [
        "<a href=\"https://colab.research.google.com/github/37stu37/rnc2/blob/master/temporal_network_try.ipynb\" target=\"_parent\"><img src=\"https://colab.research.google.com/assets/colab-badge.svg\" alt=\"Open In Colab\"/></a>"
      ]
    },
    {
      "cell_type": "code",
      "metadata": {
        "id": "Q60FM7ZmLRAp",
        "colab_type": "code",
        "outputId": "94e0373d-f6f5-4352-c9fd-b73b1c433088",
        "colab": {
          "base_uri": "https://localhost:8080/",
          "height": 122
        }
      },
      "source": [
        "from google.colab import drive\n",
        "drive.mount('/content/drive')"
      ],
      "execution_count": 1,
      "outputs": [
        {
          "output_type": "stream",
          "text": [
            "Go to this URL in a browser: https://accounts.google.com/o/oauth2/auth?client_id=947318989803-6bn6qk8qdgf4n4g3pfee6491hc0brc4i.apps.googleusercontent.com&redirect_uri=urn%3aietf%3awg%3aoauth%3a2.0%3aoob&response_type=code&scope=email%20https%3a%2f%2fwww.googleapis.com%2fauth%2fdocs.test%20https%3a%2f%2fwww.googleapis.com%2fauth%2fdrive%20https%3a%2f%2fwww.googleapis.com%2fauth%2fdrive.photos.readonly%20https%3a%2f%2fwww.googleapis.com%2fauth%2fpeopleapi.readonly\n",
            "\n",
            "Enter your authorization code:\n",
            "··········\n",
            "Mounted at /content/drive\n"
          ],
          "name": "stdout"
        }
      ]
    },
    {
      "cell_type": "code",
      "metadata": {
        "id": "7O35x2t8T4Dk",
        "colab_type": "code",
        "colab": {}
      },
      "source": [
        "import numpy as np\n",
        "import pandas as pd\n",
        "from pathlib import Path\n",
        "\n",
        "pd.options.mode.chained_assignment = None  # default='warn'"
      ],
      "execution_count": 0,
      "outputs": []
    },
    {
      "cell_type": "code",
      "metadata": {
        "id": "NQZTDiIo1CX_",
        "colab_type": "code",
        "colab": {}
      },
      "source": [
        "# import data\n",
        "folder = Path('/content/drive/My Drive/04_Cloud/01_Work/Academia/01_Publications/00_Alex/005_RNC2')\n",
        "edge_file = folder / 'data' / 'Copy of edge_data.parquet'\n",
        "wind_file = folder / 'data' / 'Copy of GD_wind.csv'\n",
        "\n",
        "wind_data = pd.read_csv(wind_file) \n",
        "edgelist = pd.read_parquet(edge_file, engine='pyarrow')"
      ],
      "execution_count": 0,
      "outputs": []
    },
    {
      "cell_type": "code",
      "metadata": {
        "id": "K2y8-GZZGssf",
        "colab_type": "code",
        "colab": {
          "base_uri": "https://localhost:8080/",
          "height": 34
        },
        "outputId": "09346552-edf0-4288-deed-71d545fc7193"
      },
      "source": [
        "edgelist.columns"
      ],
      "execution_count": 4,
      "outputs": [
        {
          "output_type": "execute_result",
          "data": {
            "text/plain": [
              "Index(['source', 'target', 'distance', 'bearing', 'IgnProb_bl'], dtype='object')"
            ]
          },
          "metadata": {
            "tags": []
          },
          "execution_count": 4
        }
      ]
    },
    {
      "cell_type": "code",
      "metadata": {
        "id": "pLBvdq4kFYnH",
        "colab_type": "code",
        "colab": {}
      },
      "source": [
        "# %%timeit\n",
        "def wind_scenario(wind_data):\n",
        "      i = np.random.randint(0, wind_data.values.shape[0])\n",
        "      w = wind_data.values[i, 2]\n",
        "      dist = wind_data.values[i, 1]\n",
        "      b = wind_data.values[i, 3]\n",
        "      bear_max = b + 45  # wind direction\n",
        "      bear_min = b - 45\n",
        "      if b == 360:\n",
        "          bear_max = 45\n",
        "      if b <= 0:  # should not be necessary\n",
        "          bear_min = 0\n",
        "      if b == 999:\n",
        "          bear_max = 999\n",
        "          bear_min = 0\n",
        "      return bear_max, bear_min, dist # wind characteristics, bearing and distance\n",
        "\n",
        "\n",
        "def ignition(edges=edgelist):\n",
        "    rng = np.random.uniform(0, 1, size=edges.values.shape[0])\n",
        "    mask = rng < edges.IgnProb_bl.values\n",
        "    NewActiveEdges = edges[mask]\n",
        "    return NewActiveEdges\n",
        "\n",
        "\n",
        "def mask(t, activeEdges_d, listActivatedSources_d, w_b_max, w_b_min, w_d):\n",
        "    if t==0: # special case at time=0\n",
        "        return activeEdges_d\n",
        "    else:\n",
        "        mask = (activeEdges_d.bearing.values < w_b_max) & (activeEdges_d.bearing.values < w_b_min) & (activeEdges_d.distance < w_d)\n",
        "        NewActiveEdges = activeEdges_d[mask]\n",
        "        NewActiveEdges = NewActiveEdges[~NewActiveEdges.source.isin(listActivatedSources_d)]\n",
        "        return NewActiveEdges\n",
        "\n",
        "\n",
        "def propagation(activeEdges_d, edges=edgelist):\n",
        "    NewActiveEdges = edges[edges.source.isin(activeEdges_d.target)]\n",
        "    return NewActiveEdges\n"
      ],
      "execution_count": 0,
      "outputs": []
    },
    {
      "cell_type": "markdown",
      "metadata": {
        "id": "g9Vq0cczZSy4",
        "colab_type": "text"
      },
      "source": [
        "**Main**\n",
        "\n",
        "\n",
        "---\n",
        "\n"
      ]
    },
    {
      "cell_type": "code",
      "metadata": {
        "id": "Q7pHNrjZN8Zw",
        "colab_type": "code",
        "outputId": "715f4c43-5e0b-4462-fd55-8ab2e5e5b5bb",
        "colab": {
          "base_uri": "https://localhost:8080/",
          "height": 1000
        }
      },
      "source": [
        "%%time\n",
        "n=100\n",
        "listScenarioDataframes = []\n",
        "for scenario in range(n):\n",
        "    # initial setup\n",
        "    condition = True\n",
        "    # listScenarioDataframes = []\n",
        "    listActivatedSources = []\n",
        "    time = 0 \n",
        "    # wind conditions\n",
        "    w_bearing_max, w_bearing_min, w_distance = wind_scenario(wind_data)\n",
        "    # ignition / initial state and edges selection\n",
        "    ActiveEdges = ignition()\n",
        "    # print(\"number of Ignitions: {}, first 5 sources: {}, first 5 targets: {}\". format(len(ActiveEdges), ActiveEdges.source.head().values, ActiveEdges.target.head().values))\n",
        "    if ActiveEdges.empty:\n",
        "        continue\n",
        "    while condition:\n",
        "        # print(\"##### scenario : {} time : {} ######\".format(scenario, time))\n",
        "        # print(\"ActiveEdges before mask: {}, first 5 sources: {}, first 5 targets: {}\". format(len(ActiveEdges), ActiveEdges.source.head().values, ActiveEdges.target.head().values))\n",
        "        ActiveEdges = mask(time, ActiveEdges, listActivatedSources, w_bearing_max, w_bearing_min, w_distance)\n",
        "        # print(\"ActiveEdges after mask: {}, first 5 sources: {}, first 5 targets: {}\". format(len(ActiveEdges), ActiveEdges.source.head().values, ActiveEdges.target.head().values))\n",
        "        if ActiveEdges.empty:\n",
        "            break\n",
        "        listScenarioDataframes.append(ActiveEdges)\n",
        "        listActivatedSources.extend(ActiveEdges.source.values)\n",
        "        # print(ActiveEdges)\n",
        "        ActiveEdges = propagation(ActiveEdges)\n",
        "        # print(\"ActiveEdges after propagation: {}, first 5 sources: {}, first 5 targets: {}\". format(len(ActiveEdges), ActiveEdges.source.head().values, ActiveEdges.target.head().values))\n",
        "        # print(ActiveEdges)\n",
        "        # advance time\n",
        "        time += 1\n",
        "    print(\"##### scenario : {} time : {} ######\".format(scenario, time))\n",
        "# if while loop broken, save activation for the scenario\n",
        "Activations = pd.concat(listScenarioDataframes)\n",
        "Activations.to_parquet(folder / 'output' / 'scenario{}_Activations.parquet'.format(scenario), engine='pyarrow')"
      ],
      "execution_count": 9,
      "outputs": [
        {
          "output_type": "stream",
          "text": [
            "##### scenario : 0 time : 21 ######\n",
            "##### scenario : 1 time : 47 ######\n",
            "##### scenario : 2 time : 41 ######\n",
            "##### scenario : 3 time : 29 ######\n",
            "##### scenario : 4 time : 55 ######\n",
            "##### scenario : 5 time : 1 ######\n",
            "##### scenario : 6 time : 45 ######\n",
            "##### scenario : 7 time : 43 ######\n",
            "##### scenario : 8 time : 45 ######\n",
            "##### scenario : 9 time : 31 ######\n",
            "##### scenario : 10 time : 26 ######\n",
            "##### scenario : 11 time : 49 ######\n",
            "##### scenario : 12 time : 1 ######\n",
            "##### scenario : 13 time : 13 ######\n",
            "##### scenario : 14 time : 33 ######\n",
            "##### scenario : 15 time : 18 ######\n",
            "##### scenario : 16 time : 24 ######\n",
            "##### scenario : 17 time : 21 ######\n",
            "##### scenario : 18 time : 11 ######\n",
            "##### scenario : 19 time : 14 ######\n",
            "##### scenario : 20 time : 40 ######\n",
            "##### scenario : 21 time : 13 ######\n",
            "##### scenario : 22 time : 12 ######\n",
            "##### scenario : 23 time : 33 ######\n",
            "##### scenario : 24 time : 14 ######\n",
            "##### scenario : 25 time : 43 ######\n",
            "##### scenario : 26 time : 14 ######\n",
            "##### scenario : 27 time : 30 ######\n",
            "##### scenario : 28 time : 33 ######\n",
            "##### scenario : 29 time : 29 ######\n",
            "##### scenario : 30 time : 34 ######\n",
            "##### scenario : 31 time : 49 ######\n",
            "##### scenario : 32 time : 45 ######\n",
            "##### scenario : 33 time : 1 ######\n",
            "##### scenario : 34 time : 17 ######\n",
            "##### scenario : 35 time : 19 ######\n",
            "##### scenario : 36 time : 46 ######\n",
            "##### scenario : 37 time : 14 ######\n",
            "##### scenario : 38 time : 57 ######\n",
            "##### scenario : 39 time : 1 ######\n",
            "##### scenario : 40 time : 17 ######\n",
            "##### scenario : 41 time : 20 ######\n",
            "##### scenario : 42 time : 37 ######\n",
            "##### scenario : 43 time : 33 ######\n",
            "##### scenario : 44 time : 1 ######\n",
            "##### scenario : 45 time : 34 ######\n",
            "##### scenario : 46 time : 14 ######\n",
            "##### scenario : 47 time : 67 ######\n",
            "##### scenario : 48 time : 1 ######\n",
            "##### scenario : 49 time : 51 ######\n",
            "##### scenario : 50 time : 1 ######\n",
            "##### scenario : 51 time : 16 ######\n",
            "##### scenario : 52 time : 19 ######\n",
            "##### scenario : 53 time : 15 ######\n",
            "##### scenario : 54 time : 13 ######\n",
            "##### scenario : 55 time : 19 ######\n",
            "##### scenario : 56 time : 1 ######\n",
            "##### scenario : 57 time : 40 ######\n",
            "##### scenario : 58 time : 15 ######\n",
            "##### scenario : 59 time : 54 ######\n",
            "##### scenario : 60 time : 1 ######\n",
            "##### scenario : 61 time : 16 ######\n",
            "##### scenario : 62 time : 26 ######\n",
            "##### scenario : 63 time : 44 ######\n",
            "##### scenario : 64 time : 58 ######\n",
            "##### scenario : 65 time : 21 ######\n",
            "##### scenario : 66 time : 34 ######\n",
            "##### scenario : 67 time : 42 ######\n",
            "##### scenario : 68 time : 17 ######\n",
            "##### scenario : 69 time : 43 ######\n",
            "##### scenario : 70 time : 56 ######\n",
            "##### scenario : 71 time : 24 ######\n",
            "##### scenario : 72 time : 46 ######\n",
            "##### scenario : 73 time : 14 ######\n",
            "##### scenario : 74 time : 28 ######\n",
            "##### scenario : 75 time : 13 ######\n",
            "##### scenario : 76 time : 29 ######\n",
            "##### scenario : 77 time : 68 ######\n",
            "##### scenario : 78 time : 1 ######\n",
            "##### scenario : 79 time : 33 ######\n",
            "##### scenario : 80 time : 55 ######\n",
            "##### scenario : 81 time : 16 ######\n",
            "##### scenario : 82 time : 1 ######\n",
            "##### scenario : 83 time : 31 ######\n",
            "##### scenario : 84 time : 26 ######\n",
            "##### scenario : 85 time : 14 ######\n",
            "##### scenario : 86 time : 1 ######\n",
            "##### scenario : 87 time : 45 ######\n",
            "##### scenario : 88 time : 25 ######\n",
            "##### scenario : 89 time : 19 ######\n",
            "##### scenario : 90 time : 1 ######\n",
            "##### scenario : 91 time : 23 ######\n",
            "##### scenario : 92 time : 52 ######\n",
            "##### scenario : 93 time : 34 ######\n",
            "##### scenario : 94 time : 17 ######\n",
            "##### scenario : 95 time : 23 ######\n",
            "##### scenario : 96 time : 14 ######\n",
            "##### scenario : 97 time : 1 ######\n",
            "##### scenario : 98 time : 29 ######\n",
            "##### scenario : 99 time : 14 ######\n",
            "CPU times: user 6min 32s, sys: 7.14 s, total: 6min 40s\n",
            "Wall time: 6min 40s\n"
          ],
          "name": "stdout"
        }
      ]
    },
    {
      "cell_type": "code",
      "metadata": {
        "id": "Ma-GWm2KZpT_",
        "colab_type": "code",
        "colab": {}
      },
      "source": [
        ""
      ],
      "execution_count": 0,
      "outputs": []
    }
  ]
}