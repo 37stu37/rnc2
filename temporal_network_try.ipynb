{
  "nbformat": 4,
  "nbformat_minor": 0,
  "metadata": {
    "kernelspec": {
      "display_name": "Python 3",
      "language": "python",
      "name": "python3"
    },
    "language_info": {
      "codemirror_mode": {
        "name": "ipython",
        "version": 3
      },
      "file_extension": ".py",
      "mimetype": "text/x-python",
      "name": "python",
      "nbconvert_exporter": "python",
      "pygments_lexer": "ipython3",
      "version": "3.7.3"
    },
    "colab": {
      "name": "temporal_network_try.ipynb",
      "provenance": [],
      "include_colab_link": true
    }
  },
  "cells": [
    {
      "cell_type": "markdown",
      "metadata": {
        "id": "view-in-github",
        "colab_type": "text"
      },
      "source": [
        "<a href=\"https://colab.research.google.com/github/37stu37/rnc2/blob/master/temporal_network_try.ipynb\" target=\"_parent\"><img src=\"https://colab.research.google.com/assets/colab-badge.svg\" alt=\"Open In Colab\"/></a>"
      ]
    },
    {
      "cell_type": "code",
      "metadata": {
        "id": "Q60FM7ZmLRAp",
        "colab_type": "code",
        "outputId": "0e7841a7-4a43-495d-a79b-0f010742354e",
        "colab": {
          "base_uri": "https://localhost:8080/",
          "height": 34
        }
      },
      "source": [
        "from google.colab import drive\n",
        "drive.mount('/content/drive')"
      ],
      "execution_count": 1,
      "outputs": [
        {
          "output_type": "stream",
          "text": [
            "Drive already mounted at /content/drive; to attempt to forcibly remount, call drive.mount(\"/content/drive\", force_remount=True).\n"
          ],
          "name": "stdout"
        }
      ]
    },
    {
      "cell_type": "code",
      "metadata": {
        "id": "7O35x2t8T4Dk",
        "colab_type": "code",
        "outputId": "698bb9b0-acf4-43ff-b922-e16d8fd1b4bb",
        "colab": {
          "base_uri": "https://localhost:8080/",
          "height": 316
        }
      },
      "source": [
        "%matplotlib inline\n",
        "import matplotlib.pyplot as plt\n",
        "import seaborn as sns\n",
        "import numpy as np\n",
        "import pandas as pd\n",
        "import dask.dataframe as dd\n",
        "import dask.array as da\n",
        "import sys\n",
        "import os\n",
        "from pathlib import Path\n",
        "import networkx as nx\n",
        "from numba import jit\n",
        "from dask.distributed import Client\n",
        "pd.options.mode.chained_assignment = None  # default='warn'\n",
        "\n",
        "client = Client(processes=False)\n",
        "client"
      ],
      "execution_count": 2,
      "outputs": [
        {
          "output_type": "stream",
          "text": [
            "/usr/local/lib/python3.6/dist-packages/statsmodels/tools/_testing.py:19: FutureWarning: pandas.util.testing is deprecated. Use the functions in the public API at pandas.testing instead.\n",
            "  import pandas.util.testing as tm\n",
            "/usr/local/lib/python3.6/dist-packages/distributed/bokeh/core.py:57: UserWarning: \n",
            "Failed to start diagnostics server on port 8787. [Errno 99] Cannot assign requested address\n",
            "  warnings.warn('\\n' + msg)\n",
            "/usr/local/lib/python3.6/dist-packages/distributed/deploy/local.py:197: UserWarning: \n",
            "Could not launch service 'bokeh' on port 8787. Got the following message:\n",
            "\n",
            "[Errno 99] Cannot assign requested address\n",
            "  self.scheduler.start(scheduler_address)\n"
          ],
          "name": "stderr"
        },
        {
          "output_type": "execute_result",
          "data": {
            "text/html": [
              "<table style=\"border: 2px solid white;\">\n",
              "<tr>\n",
              "<td style=\"vertical-align: top; border: 0px solid white\">\n",
              "<h3>Client</h3>\n",
              "<ul>\n",
              "  <li><b>Scheduler: </b>inproc://172.28.0.2/1433/1\n",
              "</ul>\n",
              "</td>\n",
              "<td style=\"vertical-align: top; border: 0px solid white\">\n",
              "<h3>Cluster</h3>\n",
              "<ul>\n",
              "  <li><b>Workers: </b>1</li>\n",
              "  <li><b>Cores: </b>2</li>\n",
              "  <li><b>Memory: </b>13.65 GB</li>\n",
              "</ul>\n",
              "</td>\n",
              "</tr>\n",
              "</table>"
            ],
            "text/plain": [
              "<Client: scheduler='inproc://172.28.0.2/1433/1' processes=1 cores=2>"
            ]
          },
          "metadata": {
            "tags": []
          },
          "execution_count": 2
        }
      ]
    },
    {
      "cell_type": "markdown",
      "metadata": {
        "id": "jlexdlgUUO3r",
        "colab_type": "text"
      },
      "source": [
        "\n",
        "\n",
        "---\n",
        "\n",
        "\n",
        "**Tentative code for rnc2 temporal network**\n",
        "\n",
        "@time\n",
        "\n",
        "Conditions -> Boolean mask -> Contacts -> Edgelist\n",
        "\n",
        "\n",
        "---\n",
        "\n"
      ]
    },
    {
      "cell_type": "code",
      "metadata": {
        "id": "NQZTDiIo1CX_",
        "colab_type": "code",
        "colab": {}
      },
      "source": [
        "# import data\n",
        "folder = Path('/content/drive/My Drive/04_Cloud/01_Work/Academia/01_Publications/00_Alex/005_RNC2')\n",
        "edge_file = folder / 'data' / 'Copy of edge_data.parquet'\n",
        "wind_file = folder / 'data' / 'Copy of GD_wind.csv'\n",
        "\n",
        "wind_data = pd.read_csv(wind_file) \n",
        "edgelist = pd.read_parquet(edge_file, engine='pyarrow')"
      ],
      "execution_count": 0,
      "outputs": []
    },
    {
      "cell_type": "markdown",
      "metadata": {
        "id": "PO0BvtdzZLWk",
        "colab_type": "text"
      },
      "source": [
        "**Conditions**\n",
        "\n",
        "\n",
        "---\n",
        "\n"
      ]
    },
    {
      "cell_type": "markdown",
      "metadata": {
        "id": "g9Vq0cczZSy4",
        "colab_type": "text"
      },
      "source": [
        "**Main**\n",
        "\n",
        "\n",
        "---\n",
        "\n"
      ]
    },
    {
      "cell_type": "code",
      "metadata": {
        "id": "pLBvdq4kFYnH",
        "colab_type": "code",
        "colab": {}
      },
      "source": [
        "def wind_scenario(t, wind_data):\n",
        "    if t == 0:\n",
        "      i = np.random.randint(0, wind_data.values.shape[0])\n",
        "      w = wind_data.values[i, 2]\n",
        "      dist = wind_data.values[i, 1]\n",
        "      b = wind_data.values[i, 3]\n",
        "      bear_max = b + 45  # wind direction\n",
        "      bear_min = b - 45\n",
        "      if b == 360:\n",
        "          bear_max = 45\n",
        "      if b <= 0:  # should not be necessary\n",
        "          bear_min = 0\n",
        "      if b == 999:\n",
        "          bear_max = 999\n",
        "          bear_min = 0\n",
        "      return bear_max, bear_min, dist # wind characteristics, bearing and distance\n",
        "    else:\n",
        "      return\n",
        "\n",
        "def wind_mask(e, w_bearing_max, w_bearing_min, w_distance):\n",
        "    mask1 = (e.bearing.values < w_bearing_max) & (e.bearing.values > w_bearing_min)\n",
        "    mask2 = e.distance.values < w_distance\n",
        "    mask = mask1 & mask2\n",
        "    return mask\n",
        "\n",
        "def ignition_mask(t, e, c):\n",
        "    # initial ignition\n",
        "    if t == 0:\n",
        "      rng = np.random.uniform(0, 1, size=e.values.shape[0])\n",
        "      mask = rng < e.IgnProb_bl.values\n",
        "      return mask\n",
        "    else:\n",
        "    # propagation\n",
        "      mask_previous_time = c.iloc[:, t-1] == 1\n",
        "      previousTarget = e.target.iloc[mask_previous_time.values]\n",
        "      mask = np.in1d(e.source.values, previousTarget.values)\n",
        "      return mask\n",
        "\n",
        "def not_burnt_mask(t, e, c):\n",
        "    if t > 1:\n",
        "      previouslyActivated = c.iloc[:,:t-1]\n",
        "      previouslyActivated_sum = previouslyActivated.sum(axis=1)\n",
        "      mask = np.where(previouslyActivated_sum> 0, 1, 0)\n",
        "      mask = mask != 1\n",
        "    else:\n",
        "      mask = c.iloc[:,0].values\n",
        "      mask = mask !=1\n",
        "    return mask"
      ],
      "execution_count": 0,
      "outputs": []
    },
    {
      "cell_type": "code",
      "metadata": {
        "id": "Q7pHNrjZN8Zw",
        "colab_type": "code",
        "outputId": "da7d5e15-cf02-49fb-85c0-affaf6c2bcf0",
        "colab": {
          "base_uri": "https://localhost:8080/",
          "height": 1000
        }
      },
      "source": [
        "n=10\n",
        "for scenario in range(n):\n",
        "    list_of_Activations = []\n",
        "    time = 0 \n",
        "    CoTime = pd.DataFrame(np.ones((len(edgelist), 1)))\n",
        "    bear_max, bear_min, distance = wind_scenario(time, wind_data)\n",
        "    while CoTime.iloc[:,-1].sum(axis=0) > 0:\n",
        "        print(\"scenario : {} time : {}\".format(scenario, time))\n",
        "        # ignititon and propagation\n",
        "        ignition_m = ignition_mask(time, edgelist, CoTime)\n",
        "        if time == 0:\n",
        "          CoTime.iloc[:,0] = mask\n",
        "        # targets under the wind\n",
        "        wind_m = wind_mask(edgelist, bear_max, bear_min, distance)\n",
        "        # not already burnt\n",
        "        not_burnt_m = not_burnt_mask(time, edgelist, CoTime)\n",
        "        # resulting mask\n",
        "        mask = (ignition_m & wind_m & not_burnt_m)\n",
        "        # add mask to CoTime\n",
        "        if time > 0:\n",
        "          CoTime = pd.DataFrame(np.c_[CoTime, mask*1])\n",
        "        # create Active edges\n",
        "        ActiveEdges = edgelist[mask]\n",
        "        print(\"number of active edges : {}\".format(len(ActiveEdges)))\n",
        "        # add scenario and time to active edges\n",
        "        ActiveEdges[\"scenario\"] = scenario\n",
        "        ActiveEdges[\"time\"] = time\n",
        "        # append to list\n",
        "        list_of_Activations.append(ActiveEdges)\n",
        "        time += 1\n",
        "    Activations = pd.concat(list_of_Activations)\n",
        "    Activations.to_parquet(folder / 'output' / 'scenario{}_Activations.parquet'.format(scenario), engine='pyarrow')"
      ],
      "execution_count": 9,
      "outputs": [
        {
          "output_type": "stream",
          "text": [
            "scenario : 0 time : 0\n",
            "number of active edges : 79\n",
            "scenario : 1 time : 0\n",
            "number of active edges : 61\n",
            "scenario : 1 time : 1\n",
            "number of active edges : 173\n",
            "scenario : 1 time : 2\n",
            "number of active edges : 445\n",
            "scenario : 1 time : 3\n",
            "number of active edges : 739\n",
            "scenario : 1 time : 4\n",
            "number of active edges : 1166\n",
            "scenario : 1 time : 5\n",
            "number of active edges : 1428\n",
            "scenario : 1 time : 6\n",
            "number of active edges : 1444\n",
            "scenario : 1 time : 7\n",
            "number of active edges : 1406\n",
            "scenario : 1 time : 8\n",
            "number of active edges : 1390\n",
            "scenario : 1 time : 9\n",
            "number of active edges : 1403\n",
            "scenario : 1 time : 10\n",
            "number of active edges : 1333\n",
            "scenario : 1 time : 11\n",
            "number of active edges : 1260\n",
            "scenario : 1 time : 12\n",
            "number of active edges : 1235\n",
            "scenario : 1 time : 13\n",
            "number of active edges : 1183\n",
            "scenario : 1 time : 14\n",
            "number of active edges : 1147\n",
            "scenario : 1 time : 15\n",
            "number of active edges : 1102\n",
            "scenario : 1 time : 16\n",
            "number of active edges : 1037\n",
            "scenario : 1 time : 17\n",
            "number of active edges : 968\n",
            "scenario : 1 time : 18\n",
            "number of active edges : 957\n",
            "scenario : 1 time : 19\n",
            "number of active edges : 900\n",
            "scenario : 1 time : 20\n",
            "number of active edges : 717\n",
            "scenario : 1 time : 21\n",
            "number of active edges : 578\n",
            "scenario : 1 time : 22\n",
            "number of active edges : 460\n",
            "scenario : 1 time : 23\n",
            "number of active edges : 474\n",
            "scenario : 1 time : 24\n",
            "number of active edges : 562\n",
            "scenario : 1 time : 25\n",
            "number of active edges : 543\n",
            "scenario : 1 time : 26\n",
            "number of active edges : 430\n",
            "scenario : 1 time : 27\n",
            "number of active edges : 279\n",
            "scenario : 1 time : 28\n",
            "number of active edges : 173\n",
            "scenario : 1 time : 29\n",
            "number of active edges : 115\n",
            "scenario : 1 time : 30\n",
            "number of active edges : 80\n",
            "scenario : 1 time : 31\n",
            "number of active edges : 60\n",
            "scenario : 1 time : 32\n",
            "number of active edges : 55\n",
            "scenario : 1 time : 33\n",
            "number of active edges : 71\n",
            "scenario : 1 time : 34\n",
            "number of active edges : 97\n",
            "scenario : 1 time : 35\n",
            "number of active edges : 109\n",
            "scenario : 1 time : 36\n",
            "number of active edges : 109\n",
            "scenario : 1 time : 37\n",
            "number of active edges : 107\n",
            "scenario : 1 time : 38\n",
            "number of active edges : 109\n",
            "scenario : 1 time : 39\n",
            "number of active edges : 105\n",
            "scenario : 1 time : 40\n",
            "number of active edges : 105\n",
            "scenario : 1 time : 41\n",
            "number of active edges : 126\n",
            "scenario : 1 time : 42\n",
            "number of active edges : 87\n",
            "scenario : 1 time : 43\n"
          ],
          "name": "stdout"
        },
        {
          "output_type": "stream",
          "text": [
            "distributed.worker - WARNING - Memory use is high but worker has no data to store to disk.  Perhaps some other process is leaking memory?  Process memory: 10.03 GB -- Worker memory limit: 13.65 GB\n"
          ],
          "name": "stderr"
        },
        {
          "output_type": "stream",
          "text": [
            "number of active edges : 35\n",
            "scenario : 1 time : 44\n"
          ],
          "name": "stdout"
        },
        {
          "output_type": "stream",
          "text": [
            "distributed.worker - WARNING - Memory use is high but worker has no data to store to disk.  Perhaps some other process is leaking memory?  Process memory: 10.03 GB -- Worker memory limit: 13.65 GB\n",
            "distributed.worker - WARNING - Memory use is high but worker has no data to store to disk.  Perhaps some other process is leaking memory?  Process memory: 10.09 GB -- Worker memory limit: 13.65 GB\n",
            "distributed.worker - WARNING - Memory use is high but worker has no data to store to disk.  Perhaps some other process is leaking memory?  Process memory: 10.44 GB -- Worker memory limit: 13.65 GB\n",
            "distributed.worker - WARNING - Memory use is high but worker has no data to store to disk.  Perhaps some other process is leaking memory?  Process memory: 10.61 GB -- Worker memory limit: 13.65 GB\n",
            "distributed.worker - WARNING - Memory use is high but worker has no data to store to disk.  Perhaps some other process is leaking memory?  Process memory: 10.60 GB -- Worker memory limit: 13.65 GB\n",
            "distributed.worker - WARNING - Memory use is high but worker has no data to store to disk.  Perhaps some other process is leaking memory?  Process memory: 10.56 GB -- Worker memory limit: 13.65 GB\n",
            "distributed.worker - WARNING - Memory use is high but worker has no data to store to disk.  Perhaps some other process is leaking memory?  Process memory: 10.57 GB -- Worker memory limit: 13.65 GB\n"
          ],
          "name": "stderr"
        },
        {
          "output_type": "stream",
          "text": [
            "number of active edges : 28\n",
            "scenario : 1 time : 45\n"
          ],
          "name": "stdout"
        },
        {
          "output_type": "stream",
          "text": [
            "distributed.worker - WARNING - Memory use is high but worker has no data to store to disk.  Perhaps some other process is leaking memory?  Process memory: 10.57 GB -- Worker memory limit: 13.65 GB\n",
            "distributed.worker - WARNING - Memory use is high but worker has no data to store to disk.  Perhaps some other process is leaking memory?  Process memory: 10.57 GB -- Worker memory limit: 13.65 GB\n",
            "distributed.worker - WARNING - Memory use is high but worker has no data to store to disk.  Perhaps some other process is leaking memory?  Process memory: 10.57 GB -- Worker memory limit: 13.65 GB\n",
            "distributed.worker - WARNING - Memory use is high but worker has no data to store to disk.  Perhaps some other process is leaking memory?  Process memory: 10.57 GB -- Worker memory limit: 13.65 GB\n"
          ],
          "name": "stderr"
        },
        {
          "output_type": "stream",
          "text": [
            "number of active edges : 18\n",
            "scenario : 1 time : 46\n"
          ],
          "name": "stdout"
        },
        {
          "output_type": "stream",
          "text": [
            "distributed.worker - WARNING - Memory use is high but worker has no data to store to disk.  Perhaps some other process is leaking memory?  Process memory: 10.57 GB -- Worker memory limit: 13.65 GB\n",
            "distributed.worker - WARNING - Memory use is high but worker has no data to store to disk.  Perhaps some other process is leaking memory?  Process memory: 10.57 GB -- Worker memory limit: 13.65 GB\n",
            "distributed.worker - WARNING - Memory use is high but worker has no data to store to disk.  Perhaps some other process is leaking memory?  Process memory: 10.57 GB -- Worker memory limit: 13.65 GB\n"
          ],
          "name": "stderr"
        },
        {
          "output_type": "stream",
          "text": [
            "number of active edges : 21\n",
            "scenario : 1 time : 47\n"
          ],
          "name": "stdout"
        },
        {
          "output_type": "stream",
          "text": [
            "distributed.worker - WARNING - Memory use is high but worker has no data to store to disk.  Perhaps some other process is leaking memory?  Process memory: 10.57 GB -- Worker memory limit: 13.65 GB\n",
            "distributed.worker - WARNING - Memory use is high but worker has no data to store to disk.  Perhaps some other process is leaking memory?  Process memory: 10.57 GB -- Worker memory limit: 13.65 GB\n",
            "distributed.worker - WARNING - Memory use is high but worker has no data to store to disk.  Perhaps some other process is leaking memory?  Process memory: 10.54 GB -- Worker memory limit: 13.65 GB\n",
            "distributed.worker - WARNING - Memory use is high but worker has no data to store to disk.  Perhaps some other process is leaking memory?  Process memory: 10.57 GB -- Worker memory limit: 13.65 GB\n"
          ],
          "name": "stderr"
        },
        {
          "output_type": "stream",
          "text": [
            "number of active edges : 18\n",
            "scenario : 1 time : 48\n"
          ],
          "name": "stdout"
        },
        {
          "output_type": "stream",
          "text": [
            "distributed.worker - WARNING - Memory use is high but worker has no data to store to disk.  Perhaps some other process is leaking memory?  Process memory: 10.57 GB -- Worker memory limit: 13.65 GB\n",
            "distributed.worker - WARNING - Memory use is high but worker has no data to store to disk.  Perhaps some other process is leaking memory?  Process memory: 10.57 GB -- Worker memory limit: 13.65 GB\n",
            "distributed.worker - WARNING - Memory use is high but worker has no data to store to disk.  Perhaps some other process is leaking memory?  Process memory: 10.57 GB -- Worker memory limit: 13.65 GB\n"
          ],
          "name": "stderr"
        },
        {
          "output_type": "stream",
          "text": [
            "number of active edges : 4\n",
            "scenario : 1 time : 49\n"
          ],
          "name": "stdout"
        },
        {
          "output_type": "stream",
          "text": [
            "distributed.worker - WARNING - Memory use is high but worker has no data to store to disk.  Perhaps some other process is leaking memory?  Process memory: 10.57 GB -- Worker memory limit: 13.65 GB\n",
            "distributed.worker - WARNING - Memory use is high but worker has no data to store to disk.  Perhaps some other process is leaking memory?  Process memory: 10.57 GB -- Worker memory limit: 13.65 GB\n",
            "distributed.worker - WARNING - Memory use is high but worker has no data to store to disk.  Perhaps some other process is leaking memory?  Process memory: 10.57 GB -- Worker memory limit: 13.65 GB\n",
            "distributed.worker - WARNING - Memory use is high but worker has no data to store to disk.  Perhaps some other process is leaking memory?  Process memory: 10.59 GB -- Worker memory limit: 13.65 GB\n"
          ],
          "name": "stderr"
        },
        {
          "output_type": "stream",
          "text": [
            "number of active edges : 0\n",
            "scenario : 2 time : 0\n"
          ],
          "name": "stdout"
        },
        {
          "output_type": "stream",
          "text": [
            "distributed.worker - WARNING - Memory use is high but worker has no data to store to disk.  Perhaps some other process is leaking memory?  Process memory: 10.67 GB -- Worker memory limit: 13.65 GB\n"
          ],
          "name": "stderr"
        },
        {
          "output_type": "stream",
          "text": [
            "number of active edges : 84\n",
            "scenario : 3 time : 0\n",
            "number of active edges : 0\n",
            "scenario : 3 time : 1\n"
          ],
          "name": "stdout"
        },
        {
          "output_type": "stream",
          "text": [
            "distributed.worker - WARNING - Memory use is high but worker has no data to store to disk.  Perhaps some other process is leaking memory?  Process memory: 10.67 GB -- Worker memory limit: 13.65 GB\n",
            "distributed.worker - WARNING - Memory use is high but worker has no data to store to disk.  Perhaps some other process is leaking memory?  Process memory: 10.67 GB -- Worker memory limit: 13.65 GB\n",
            "distributed.worker - WARNING - Memory use is high but worker has no data to store to disk.  Perhaps some other process is leaking memory?  Process memory: 10.67 GB -- Worker memory limit: 13.65 GB\n"
          ],
          "name": "stderr"
        },
        {
          "output_type": "stream",
          "text": [
            "number of active edges : 0\n",
            "scenario : 4 time : 0\n",
            "number of active edges : 107\n",
            "scenario : 5 time : 0\n"
          ],
          "name": "stdout"
        },
        {
          "output_type": "stream",
          "text": [
            "distributed.worker - WARNING - Memory use is high but worker has no data to store to disk.  Perhaps some other process is leaking memory?  Process memory: 10.67 GB -- Worker memory limit: 13.65 GB\n"
          ],
          "name": "stderr"
        },
        {
          "output_type": "stream",
          "text": [
            "number of active edges : 72\n",
            "scenario : 5 time : 1\n"
          ],
          "name": "stdout"
        },
        {
          "output_type": "stream",
          "text": [
            "distributed.worker - WARNING - Memory use is high but worker has no data to store to disk.  Perhaps some other process is leaking memory?  Process memory: 10.67 GB -- Worker memory limit: 13.65 GB\n"
          ],
          "name": "stderr"
        },
        {
          "output_type": "stream",
          "text": [
            "number of active edges : 307\n",
            "scenario : 5 time : 2\n"
          ],
          "name": "stdout"
        },
        {
          "output_type": "stream",
          "text": [
            "distributed.worker - WARNING - Memory use is high but worker has no data to store to disk.  Perhaps some other process is leaking memory?  Process memory: 10.66 GB -- Worker memory limit: 13.65 GB\n",
            "distributed.worker - WARNING - Memory use is high but worker has no data to store to disk.  Perhaps some other process is leaking memory?  Process memory: 10.67 GB -- Worker memory limit: 13.65 GB\n"
          ],
          "name": "stderr"
        },
        {
          "output_type": "stream",
          "text": [
            "number of active edges : 844\n",
            "scenario : 5 time : 3\n"
          ],
          "name": "stdout"
        },
        {
          "output_type": "stream",
          "text": [
            "distributed.worker - WARNING - Memory use is high but worker has no data to store to disk.  Perhaps some other process is leaking memory?  Process memory: 10.66 GB -- Worker memory limit: 13.65 GB\n",
            "distributed.worker - WARNING - Memory use is high but worker has no data to store to disk.  Perhaps some other process is leaking memory?  Process memory: 10.67 GB -- Worker memory limit: 13.65 GB\n"
          ],
          "name": "stderr"
        },
        {
          "output_type": "stream",
          "text": [
            "number of active edges : 1349\n",
            "scenario : 5 time : 4\n"
          ],
          "name": "stdout"
        },
        {
          "output_type": "stream",
          "text": [
            "distributed.worker - WARNING - Memory use is high but worker has no data to store to disk.  Perhaps some other process is leaking memory?  Process memory: 10.67 GB -- Worker memory limit: 13.65 GB\n",
            "distributed.worker - WARNING - Memory use is high but worker has no data to store to disk.  Perhaps some other process is leaking memory?  Process memory: 10.67 GB -- Worker memory limit: 13.65 GB\n"
          ],
          "name": "stderr"
        },
        {
          "output_type": "stream",
          "text": [
            "number of active edges : 1854\n",
            "scenario : 5 time : 5\n"
          ],
          "name": "stdout"
        },
        {
          "output_type": "stream",
          "text": [
            "distributed.worker - WARNING - Memory use is high but worker has no data to store to disk.  Perhaps some other process is leaking memory?  Process memory: 10.67 GB -- Worker memory limit: 13.65 GB\n"
          ],
          "name": "stderr"
        },
        {
          "output_type": "stream",
          "text": [
            "number of active edges : 2145\n",
            "scenario : 5 time : 6\n"
          ],
          "name": "stdout"
        },
        {
          "output_type": "stream",
          "text": [
            "distributed.worker - WARNING - Memory use is high but worker has no data to store to disk.  Perhaps some other process is leaking memory?  Process memory: 10.67 GB -- Worker memory limit: 13.65 GB\n",
            "distributed.worker - WARNING - Memory use is high but worker has no data to store to disk.  Perhaps some other process is leaking memory?  Process memory: 10.67 GB -- Worker memory limit: 13.65 GB\n",
            "distributed.worker - WARNING - Memory use is high but worker has no data to store to disk.  Perhaps some other process is leaking memory?  Process memory: 10.68 GB -- Worker memory limit: 13.65 GB\n"
          ],
          "name": "stderr"
        },
        {
          "output_type": "stream",
          "text": [
            "number of active edges : 2112\n",
            "scenario : 5 time : 7\n"
          ],
          "name": "stdout"
        },
        {
          "output_type": "stream",
          "text": [
            "distributed.worker - WARNING - Memory use is high but worker has no data to store to disk.  Perhaps some other process is leaking memory?  Process memory: 10.65 GB -- Worker memory limit: 13.65 GB\n",
            "distributed.worker - WARNING - Memory use is high but worker has no data to store to disk.  Perhaps some other process is leaking memory?  Process memory: 10.65 GB -- Worker memory limit: 13.65 GB\n"
          ],
          "name": "stderr"
        },
        {
          "output_type": "stream",
          "text": [
            "number of active edges : 2153\n",
            "scenario : 5 time : 8\n"
          ],
          "name": "stdout"
        },
        {
          "output_type": "stream",
          "text": [
            "distributed.worker - WARNING - Memory use is high but worker has no data to store to disk.  Perhaps some other process is leaking memory?  Process memory: 10.65 GB -- Worker memory limit: 13.65 GB\n",
            "distributed.worker - WARNING - Memory use is high but worker has no data to store to disk.  Perhaps some other process is leaking memory?  Process memory: 10.65 GB -- Worker memory limit: 13.65 GB\n"
          ],
          "name": "stderr"
        },
        {
          "output_type": "stream",
          "text": [
            "number of active edges : 2255\n",
            "scenario : 5 time : 9\n"
          ],
          "name": "stdout"
        },
        {
          "output_type": "stream",
          "text": [
            "distributed.worker - WARNING - Memory use is high but worker has no data to store to disk.  Perhaps some other process is leaking memory?  Process memory: 10.68 GB -- Worker memory limit: 13.65 GB\n",
            "distributed.worker - WARNING - Memory use is high but worker has no data to store to disk.  Perhaps some other process is leaking memory?  Process memory: 10.68 GB -- Worker memory limit: 13.65 GB\n",
            "distributed.worker - WARNING - Memory use is high but worker has no data to store to disk.  Perhaps some other process is leaking memory?  Process memory: 10.61 GB -- Worker memory limit: 13.65 GB\n"
          ],
          "name": "stderr"
        },
        {
          "output_type": "stream",
          "text": [
            "number of active edges : 2396\n",
            "scenario : 5 time : 10\n"
          ],
          "name": "stdout"
        },
        {
          "output_type": "stream",
          "text": [
            "distributed.worker - WARNING - Memory use is high but worker has no data to store to disk.  Perhaps some other process is leaking memory?  Process memory: 10.64 GB -- Worker memory limit: 13.65 GB\n",
            "distributed.worker - WARNING - Memory use is high but worker has no data to store to disk.  Perhaps some other process is leaking memory?  Process memory: 10.64 GB -- Worker memory limit: 13.65 GB\n"
          ],
          "name": "stderr"
        },
        {
          "output_type": "stream",
          "text": [
            "number of active edges : 2560\n",
            "scenario : 5 time : 11\n"
          ],
          "name": "stdout"
        },
        {
          "output_type": "stream",
          "text": [
            "distributed.worker - WARNING - Memory use is high but worker has no data to store to disk.  Perhaps some other process is leaking memory?  Process memory: 10.64 GB -- Worker memory limit: 13.65 GB\n",
            "distributed.worker - WARNING - Memory use is high but worker has no data to store to disk.  Perhaps some other process is leaking memory?  Process memory: 10.68 GB -- Worker memory limit: 13.65 GB\n"
          ],
          "name": "stderr"
        },
        {
          "output_type": "stream",
          "text": [
            "number of active edges : 2380\n",
            "scenario : 5 time : 12\n"
          ],
          "name": "stdout"
        },
        {
          "output_type": "stream",
          "text": [
            "distributed.worker - WARNING - Memory use is high but worker has no data to store to disk.  Perhaps some other process is leaking memory?  Process memory: 10.69 GB -- Worker memory limit: 13.65 GB\n",
            "distributed.worker - WARNING - Memory use is high but worker has no data to store to disk.  Perhaps some other process is leaking memory?  Process memory: 10.66 GB -- Worker memory limit: 13.65 GB\n",
            "distributed.worker - WARNING - Memory use is high but worker has no data to store to disk.  Perhaps some other process is leaking memory?  Process memory: 10.66 GB -- Worker memory limit: 13.65 GB\n"
          ],
          "name": "stderr"
        },
        {
          "output_type": "stream",
          "text": [
            "number of active edges : 1969\n",
            "scenario : 5 time : 13\n"
          ],
          "name": "stdout"
        },
        {
          "output_type": "stream",
          "text": [
            "distributed.worker - WARNING - Memory use is high but worker has no data to store to disk.  Perhaps some other process is leaking memory?  Process memory: 10.66 GB -- Worker memory limit: 13.65 GB\n",
            "distributed.worker - WARNING - Memory use is high but worker has no data to store to disk.  Perhaps some other process is leaking memory?  Process memory: 10.66 GB -- Worker memory limit: 13.65 GB\n"
          ],
          "name": "stderr"
        },
        {
          "output_type": "stream",
          "text": [
            "number of active edges : 1671\n",
            "scenario : 5 time : 14\n"
          ],
          "name": "stdout"
        },
        {
          "output_type": "stream",
          "text": [
            "distributed.worker - WARNING - Memory use is high but worker has no data to store to disk.  Perhaps some other process is leaking memory?  Process memory: 10.66 GB -- Worker memory limit: 13.65 GB\n",
            "distributed.worker - WARNING - Memory use is high but worker has no data to store to disk.  Perhaps some other process is leaking memory?  Process memory: 10.68 GB -- Worker memory limit: 13.65 GB\n",
            "distributed.worker - WARNING - Memory use is high but worker has no data to store to disk.  Perhaps some other process is leaking memory?  Process memory: 10.69 GB -- Worker memory limit: 13.65 GB\n",
            "distributed.worker - WARNING - Memory use is high but worker has no data to store to disk.  Perhaps some other process is leaking memory?  Process memory: 10.68 GB -- Worker memory limit: 13.65 GB\n"
          ],
          "name": "stderr"
        },
        {
          "output_type": "stream",
          "text": [
            "number of active edges : 1457\n",
            "scenario : 5 time : 15\n"
          ],
          "name": "stdout"
        },
        {
          "output_type": "stream",
          "text": [
            "distributed.worker - WARNING - Memory use is high but worker has no data to store to disk.  Perhaps some other process is leaking memory?  Process memory: 10.68 GB -- Worker memory limit: 13.65 GB\n",
            "distributed.worker - WARNING - Memory use is high but worker has no data to store to disk.  Perhaps some other process is leaking memory?  Process memory: 10.69 GB -- Worker memory limit: 13.65 GB\n",
            "distributed.worker - WARNING - Memory use is high but worker has no data to store to disk.  Perhaps some other process is leaking memory?  Process memory: 10.68 GB -- Worker memory limit: 13.65 GB\n"
          ],
          "name": "stderr"
        },
        {
          "output_type": "stream",
          "text": [
            "number of active edges : 1337\n",
            "scenario : 5 time : 16\n"
          ],
          "name": "stdout"
        },
        {
          "output_type": "stream",
          "text": [
            "distributed.worker - WARNING - Memory use is high but worker has no data to store to disk.  Perhaps some other process is leaking memory?  Process memory: 10.68 GB -- Worker memory limit: 13.65 GB\n",
            "distributed.worker - WARNING - Memory use is high but worker has no data to store to disk.  Perhaps some other process is leaking memory?  Process memory: 10.68 GB -- Worker memory limit: 13.65 GB\n",
            "distributed.worker - WARNING - Memory use is high but worker has no data to store to disk.  Perhaps some other process is leaking memory?  Process memory: 10.67 GB -- Worker memory limit: 13.65 GB\n"
          ],
          "name": "stderr"
        },
        {
          "output_type": "stream",
          "text": [
            "number of active edges : 1306\n",
            "scenario : 5 time : 17\n"
          ],
          "name": "stdout"
        },
        {
          "output_type": "stream",
          "text": [
            "distributed.worker - WARNING - Memory use is high but worker has no data to store to disk.  Perhaps some other process is leaking memory?  Process memory: 10.67 GB -- Worker memory limit: 13.65 GB\n",
            "distributed.worker - WARNING - Memory use is high but worker has no data to store to disk.  Perhaps some other process is leaking memory?  Process memory: 10.67 GB -- Worker memory limit: 13.65 GB\n",
            "distributed.worker - WARNING - Memory use is high but worker has no data to store to disk.  Perhaps some other process is leaking memory?  Process memory: 10.70 GB -- Worker memory limit: 13.65 GB\n"
          ],
          "name": "stderr"
        },
        {
          "output_type": "stream",
          "text": [
            "number of active edges : 1196\n",
            "scenario : 5 time : 18\n"
          ],
          "name": "stdout"
        },
        {
          "output_type": "stream",
          "text": [
            "distributed.worker - WARNING - Memory use is high but worker has no data to store to disk.  Perhaps some other process is leaking memory?  Process memory: 10.70 GB -- Worker memory limit: 13.65 GB\n",
            "distributed.worker - WARNING - Memory use is high but worker has no data to store to disk.  Perhaps some other process is leaking memory?  Process memory: 10.71 GB -- Worker memory limit: 13.65 GB\n",
            "distributed.worker - WARNING - Memory use is high but worker has no data to store to disk.  Perhaps some other process is leaking memory?  Process memory: 10.69 GB -- Worker memory limit: 13.65 GB\n",
            "distributed.worker - WARNING - Memory use is high but worker has no data to store to disk.  Perhaps some other process is leaking memory?  Process memory: 10.69 GB -- Worker memory limit: 13.65 GB\n"
          ],
          "name": "stderr"
        },
        {
          "output_type": "stream",
          "text": [
            "number of active edges : 1209\n",
            "scenario : 5 time : 19\n"
          ],
          "name": "stdout"
        },
        {
          "output_type": "stream",
          "text": [
            "distributed.worker - WARNING - Memory use is high but worker has no data to store to disk.  Perhaps some other process is leaking memory?  Process memory: 10.69 GB -- Worker memory limit: 13.65 GB\n",
            "distributed.worker - WARNING - Memory use is high but worker has no data to store to disk.  Perhaps some other process is leaking memory?  Process memory: 10.70 GB -- Worker memory limit: 13.65 GB\n",
            "distributed.worker - WARNING - Memory use is high but worker has no data to store to disk.  Perhaps some other process is leaking memory?  Process memory: 10.71 GB -- Worker memory limit: 13.65 GB\n",
            "distributed.worker - WARNING - Memory use is high but worker has no data to store to disk.  Perhaps some other process is leaking memory?  Process memory: 10.69 GB -- Worker memory limit: 13.65 GB\n"
          ],
          "name": "stderr"
        },
        {
          "output_type": "stream",
          "text": [
            "number of active edges : 1237\n",
            "scenario : 5 time : 20\n"
          ],
          "name": "stdout"
        },
        {
          "output_type": "stream",
          "text": [
            "distributed.worker - WARNING - Memory use is high but worker has no data to store to disk.  Perhaps some other process is leaking memory?  Process memory: 10.69 GB -- Worker memory limit: 13.65 GB\n",
            "distributed.worker - WARNING - Memory use is high but worker has no data to store to disk.  Perhaps some other process is leaking memory?  Process memory: 10.70 GB -- Worker memory limit: 13.65 GB\n",
            "distributed.worker - WARNING - Memory use is high but worker has no data to store to disk.  Perhaps some other process is leaking memory?  Process memory: 10.71 GB -- Worker memory limit: 13.65 GB\n",
            "distributed.worker - WARNING - Memory use is high but worker has no data to store to disk.  Perhaps some other process is leaking memory?  Process memory: 10.69 GB -- Worker memory limit: 13.65 GB\n"
          ],
          "name": "stderr"
        },
        {
          "output_type": "stream",
          "text": [
            "number of active edges : 1016\n",
            "scenario : 5 time : 21\n"
          ],
          "name": "stdout"
        },
        {
          "output_type": "stream",
          "text": [
            "distributed.worker - WARNING - Memory use is high but worker has no data to store to disk.  Perhaps some other process is leaking memory?  Process memory: 10.69 GB -- Worker memory limit: 13.65 GB\n",
            "distributed.worker - WARNING - Memory use is high but worker has no data to store to disk.  Perhaps some other process is leaking memory?  Process memory: 10.73 GB -- Worker memory limit: 13.65 GB\n",
            "distributed.worker - WARNING - Memory use is high but worker has no data to store to disk.  Perhaps some other process is leaking memory?  Process memory: 10.72 GB -- Worker memory limit: 13.65 GB\n",
            "distributed.worker - WARNING - Memory use is high but worker has no data to store to disk.  Perhaps some other process is leaking memory?  Process memory: 10.72 GB -- Worker memory limit: 13.65 GB\n"
          ],
          "name": "stderr"
        },
        {
          "output_type": "stream",
          "text": [
            "number of active edges : 759\n",
            "scenario : 5 time : 22\n"
          ],
          "name": "stdout"
        },
        {
          "output_type": "stream",
          "text": [
            "distributed.worker - WARNING - Memory use is high but worker has no data to store to disk.  Perhaps some other process is leaking memory?  Process memory: 10.72 GB -- Worker memory limit: 13.65 GB\n",
            "distributed.worker - WARNING - Memory use is high but worker has no data to store to disk.  Perhaps some other process is leaking memory?  Process memory: 10.72 GB -- Worker memory limit: 13.65 GB\n",
            "distributed.worker - WARNING - Memory use is high but worker has no data to store to disk.  Perhaps some other process is leaking memory?  Process memory: 10.72 GB -- Worker memory limit: 13.65 GB\n"
          ],
          "name": "stderr"
        },
        {
          "output_type": "stream",
          "text": [
            "number of active edges : 570\n",
            "scenario : 5 time : 23\n"
          ],
          "name": "stdout"
        },
        {
          "output_type": "stream",
          "text": [
            "distributed.worker - WARNING - Memory use is high but worker has no data to store to disk.  Perhaps some other process is leaking memory?  Process memory: 10.72 GB -- Worker memory limit: 13.65 GB\n",
            "distributed.worker - WARNING - Memory use is high but worker has no data to store to disk.  Perhaps some other process is leaking memory?  Process memory: 10.72 GB -- Worker memory limit: 13.65 GB\n",
            "distributed.worker - WARNING - Memory use is high but worker has no data to store to disk.  Perhaps some other process is leaking memory?  Process memory: 10.73 GB -- Worker memory limit: 13.65 GB\n",
            "distributed.worker - WARNING - Memory use is high but worker has no data to store to disk.  Perhaps some other process is leaking memory?  Process memory: 10.73 GB -- Worker memory limit: 13.65 GB\n"
          ],
          "name": "stderr"
        },
        {
          "output_type": "stream",
          "text": [
            "number of active edges : 431\n",
            "scenario : 5 time : 24\n"
          ],
          "name": "stdout"
        },
        {
          "output_type": "stream",
          "text": [
            "distributed.worker - WARNING - Memory use is high but worker has no data to store to disk.  Perhaps some other process is leaking memory?  Process memory: 10.72 GB -- Worker memory limit: 13.65 GB\n",
            "distributed.worker - WARNING - Memory use is high but worker has no data to store to disk.  Perhaps some other process is leaking memory?  Process memory: 10.72 GB -- Worker memory limit: 13.65 GB\n",
            "distributed.worker - WARNING - Memory use is high but worker has no data to store to disk.  Perhaps some other process is leaking memory?  Process memory: 10.72 GB -- Worker memory limit: 13.65 GB\n"
          ],
          "name": "stderr"
        },
        {
          "output_type": "stream",
          "text": [
            "number of active edges : 353\n",
            "scenario : 5 time : 25\n"
          ],
          "name": "stdout"
        },
        {
          "output_type": "stream",
          "text": [
            "distributed.worker - WARNING - Memory use is high but worker has no data to store to disk.  Perhaps some other process is leaking memory?  Process memory: 10.72 GB -- Worker memory limit: 13.65 GB\n",
            "distributed.worker - WARNING - Memory use is high but worker has no data to store to disk.  Perhaps some other process is leaking memory?  Process memory: 10.72 GB -- Worker memory limit: 13.65 GB\n",
            "distributed.worker - WARNING - Memory use is high but worker has no data to store to disk.  Perhaps some other process is leaking memory?  Process memory: 10.74 GB -- Worker memory limit: 13.65 GB\n",
            "distributed.worker - WARNING - Memory use is high but worker has no data to store to disk.  Perhaps some other process is leaking memory?  Process memory: 10.72 GB -- Worker memory limit: 13.65 GB\n",
            "distributed.worker - WARNING - Memory use is high but worker has no data to store to disk.  Perhaps some other process is leaking memory?  Process memory: 10.75 GB -- Worker memory limit: 13.65 GB\n"
          ],
          "name": "stderr"
        },
        {
          "output_type": "stream",
          "text": [
            "number of active edges : 268\n",
            "scenario : 5 time : 26\n"
          ],
          "name": "stdout"
        },
        {
          "output_type": "stream",
          "text": [
            "distributed.worker - WARNING - Memory use is high but worker has no data to store to disk.  Perhaps some other process is leaking memory?  Process memory: 10.75 GB -- Worker memory limit: 13.65 GB\n",
            "distributed.worker - WARNING - Memory use is high but worker has no data to store to disk.  Perhaps some other process is leaking memory?  Process memory: 10.74 GB -- Worker memory limit: 13.65 GB\n",
            "distributed.worker - WARNING - Memory use is high but worker has no data to store to disk.  Perhaps some other process is leaking memory?  Process memory: 10.76 GB -- Worker memory limit: 13.65 GB\n",
            "distributed.worker - WARNING - Memory use is high but worker has no data to store to disk.  Perhaps some other process is leaking memory?  Process memory: 10.75 GB -- Worker memory limit: 13.65 GB\n",
            "distributed.worker - WARNING - Memory use is high but worker has no data to store to disk.  Perhaps some other process is leaking memory?  Process memory: 10.76 GB -- Worker memory limit: 13.65 GB\n"
          ],
          "name": "stderr"
        },
        {
          "output_type": "stream",
          "text": [
            "number of active edges : 166\n",
            "scenario : 5 time : 27\n"
          ],
          "name": "stdout"
        },
        {
          "output_type": "stream",
          "text": [
            "distributed.worker - WARNING - Memory use is high but worker has no data to store to disk.  Perhaps some other process is leaking memory?  Process memory: 10.76 GB -- Worker memory limit: 13.65 GB\n",
            "distributed.worker - WARNING - Memory use is high but worker has no data to store to disk.  Perhaps some other process is leaking memory?  Process memory: 10.76 GB -- Worker memory limit: 13.65 GB\n",
            "distributed.worker - WARNING - Memory use is high but worker has no data to store to disk.  Perhaps some other process is leaking memory?  Process memory: 10.77 GB -- Worker memory limit: 13.65 GB\n",
            "distributed.worker - WARNING - Memory use is high but worker has no data to store to disk.  Perhaps some other process is leaking memory?  Process memory: 10.77 GB -- Worker memory limit: 13.65 GB\n"
          ],
          "name": "stderr"
        },
        {
          "output_type": "stream",
          "text": [
            "number of active edges : 145\n",
            "scenario : 5 time : 28\n"
          ],
          "name": "stdout"
        },
        {
          "output_type": "stream",
          "text": [
            "distributed.worker - WARNING - Memory use is high but worker has no data to store to disk.  Perhaps some other process is leaking memory?  Process memory: 10.77 GB -- Worker memory limit: 13.65 GB\n",
            "distributed.worker - WARNING - Memory use is high but worker has no data to store to disk.  Perhaps some other process is leaking memory?  Process memory: 10.77 GB -- Worker memory limit: 13.65 GB\n",
            "distributed.worker - WARNING - Memory use is high but worker has no data to store to disk.  Perhaps some other process is leaking memory?  Process memory: 10.77 GB -- Worker memory limit: 13.65 GB\n"
          ],
          "name": "stderr"
        },
        {
          "output_type": "stream",
          "text": [
            "number of active edges : 169\n",
            "scenario : 5 time : 29\n"
          ],
          "name": "stdout"
        },
        {
          "output_type": "stream",
          "text": [
            "distributed.worker - WARNING - Memory use is high but worker has no data to store to disk.  Perhaps some other process is leaking memory?  Process memory: 10.77 GB -- Worker memory limit: 13.65 GB\n",
            "distributed.worker - WARNING - Memory use is high but worker has no data to store to disk.  Perhaps some other process is leaking memory?  Process memory: 10.77 GB -- Worker memory limit: 13.65 GB\n",
            "distributed.worker - WARNING - Memory use is high but worker has no data to store to disk.  Perhaps some other process is leaking memory?  Process memory: 10.77 GB -- Worker memory limit: 13.65 GB\n",
            "distributed.worker - WARNING - Memory use is high but worker has no data to store to disk.  Perhaps some other process is leaking memory?  Process memory: 10.77 GB -- Worker memory limit: 13.65 GB\n"
          ],
          "name": "stderr"
        },
        {
          "output_type": "stream",
          "text": [
            "number of active edges : 160\n",
            "scenario : 5 time : 30\n"
          ],
          "name": "stdout"
        },
        {
          "output_type": "stream",
          "text": [
            "distributed.worker - WARNING - Memory use is high but worker has no data to store to disk.  Perhaps some other process is leaking memory?  Process memory: 10.77 GB -- Worker memory limit: 13.65 GB\n",
            "distributed.worker - WARNING - Memory use is high but worker has no data to store to disk.  Perhaps some other process is leaking memory?  Process memory: 10.77 GB -- Worker memory limit: 13.65 GB\n",
            "distributed.worker - WARNING - Memory use is high but worker has no data to store to disk.  Perhaps some other process is leaking memory?  Process memory: 10.77 GB -- Worker memory limit: 13.65 GB\n"
          ],
          "name": "stderr"
        },
        {
          "output_type": "stream",
          "text": [
            "number of active edges : 118\n",
            "scenario : 5 time : 31\n"
          ],
          "name": "stdout"
        },
        {
          "output_type": "stream",
          "text": [
            "distributed.worker - WARNING - Memory use is high but worker has no data to store to disk.  Perhaps some other process is leaking memory?  Process memory: 10.77 GB -- Worker memory limit: 13.65 GB\n",
            "distributed.worker - WARNING - Memory use is high but worker has no data to store to disk.  Perhaps some other process is leaking memory?  Process memory: 10.77 GB -- Worker memory limit: 13.65 GB\n",
            "distributed.worker - WARNING - Memory use is high but worker has no data to store to disk.  Perhaps some other process is leaking memory?  Process memory: 10.77 GB -- Worker memory limit: 13.65 GB\n",
            "distributed.worker - WARNING - Memory use is high but worker has no data to store to disk.  Perhaps some other process is leaking memory?  Process memory: 10.77 GB -- Worker memory limit: 13.65 GB\n"
          ],
          "name": "stderr"
        },
        {
          "output_type": "stream",
          "text": [
            "number of active edges : 90\n",
            "scenario : 5 time : 32\n"
          ],
          "name": "stdout"
        },
        {
          "output_type": "stream",
          "text": [
            "distributed.worker - WARNING - Memory use is high but worker has no data to store to disk.  Perhaps some other process is leaking memory?  Process memory: 10.77 GB -- Worker memory limit: 13.65 GB\n",
            "distributed.worker - WARNING - Memory use is high but worker has no data to store to disk.  Perhaps some other process is leaking memory?  Process memory: 10.77 GB -- Worker memory limit: 13.65 GB\n",
            "distributed.worker - WARNING - Memory use is high but worker has no data to store to disk.  Perhaps some other process is leaking memory?  Process memory: 10.77 GB -- Worker memory limit: 13.65 GB\n",
            "distributed.worker - WARNING - Memory use is high but worker has no data to store to disk.  Perhaps some other process is leaking memory?  Process memory: 10.77 GB -- Worker memory limit: 13.65 GB\n"
          ],
          "name": "stderr"
        },
        {
          "output_type": "stream",
          "text": [
            "number of active edges : 82\n",
            "scenario : 5 time : 33\n"
          ],
          "name": "stdout"
        },
        {
          "output_type": "stream",
          "text": [
            "distributed.worker - WARNING - Memory use is high but worker has no data to store to disk.  Perhaps some other process is leaking memory?  Process memory: 10.77 GB -- Worker memory limit: 13.65 GB\n",
            "distributed.worker - WARNING - Memory use is high but worker has no data to store to disk.  Perhaps some other process is leaking memory?  Process memory: 10.77 GB -- Worker memory limit: 13.65 GB\n",
            "distributed.worker - WARNING - Memory use is high but worker has no data to store to disk.  Perhaps some other process is leaking memory?  Process memory: 10.77 GB -- Worker memory limit: 13.65 GB\n",
            "distributed.worker - WARNING - Memory use is high but worker has no data to store to disk.  Perhaps some other process is leaking memory?  Process memory: 10.78 GB -- Worker memory limit: 13.65 GB\n"
          ],
          "name": "stderr"
        },
        {
          "output_type": "stream",
          "text": [
            "number of active edges : 79\n",
            "scenario : 5 time : 34\n"
          ],
          "name": "stdout"
        },
        {
          "output_type": "stream",
          "text": [
            "distributed.worker - WARNING - Memory use is high but worker has no data to store to disk.  Perhaps some other process is leaking memory?  Process memory: 10.78 GB -- Worker memory limit: 13.65 GB\n",
            "distributed.worker - WARNING - Memory use is high but worker has no data to store to disk.  Perhaps some other process is leaking memory?  Process memory: 10.79 GB -- Worker memory limit: 13.65 GB\n",
            "distributed.worker - WARNING - Memory use is high but worker has no data to store to disk.  Perhaps some other process is leaking memory?  Process memory: 10.80 GB -- Worker memory limit: 13.65 GB\n",
            "distributed.worker - WARNING - Memory use is high but worker has no data to store to disk.  Perhaps some other process is leaking memory?  Process memory: 10.79 GB -- Worker memory limit: 13.65 GB\n",
            "distributed.worker - WARNING - Memory use is high but worker has no data to store to disk.  Perhaps some other process is leaking memory?  Process memory: 10.79 GB -- Worker memory limit: 13.65 GB\n"
          ],
          "name": "stderr"
        },
        {
          "output_type": "stream",
          "text": [
            "number of active edges : 64\n",
            "scenario : 5 time : 35\n"
          ],
          "name": "stdout"
        },
        {
          "output_type": "stream",
          "text": [
            "distributed.worker - WARNING - Memory use is high but worker has no data to store to disk.  Perhaps some other process is leaking memory?  Process memory: 10.79 GB -- Worker memory limit: 13.65 GB\n",
            "distributed.worker - WARNING - Memory use is high but worker has no data to store to disk.  Perhaps some other process is leaking memory?  Process memory: 10.79 GB -- Worker memory limit: 13.65 GB\n",
            "distributed.worker - WARNING - Memory use is high but worker has no data to store to disk.  Perhaps some other process is leaking memory?  Process memory: 10.82 GB -- Worker memory limit: 13.65 GB\n",
            "distributed.worker - WARNING - Memory use is high but worker has no data to store to disk.  Perhaps some other process is leaking memory?  Process memory: 10.82 GB -- Worker memory limit: 13.65 GB\n",
            "distributed.worker - WARNING - Memory use is high but worker has no data to store to disk.  Perhaps some other process is leaking memory?  Process memory: 10.82 GB -- Worker memory limit: 13.65 GB\n",
            "distributed.worker - WARNING - Memory use is high but worker has no data to store to disk.  Perhaps some other process is leaking memory?  Process memory: 10.83 GB -- Worker memory limit: 13.65 GB\n"
          ],
          "name": "stderr"
        },
        {
          "output_type": "stream",
          "text": [
            "number of active edges : 36\n",
            "scenario : 5 time : 36\n"
          ],
          "name": "stdout"
        },
        {
          "output_type": "stream",
          "text": [
            "distributed.worker - WARNING - Memory use is high but worker has no data to store to disk.  Perhaps some other process is leaking memory?  Process memory: 10.83 GB -- Worker memory limit: 13.65 GB\n",
            "distributed.worker - WARNING - Memory use is high but worker has no data to store to disk.  Perhaps some other process is leaking memory?  Process memory: 10.83 GB -- Worker memory limit: 13.65 GB\n",
            "distributed.worker - WARNING - Memory use is high but worker has no data to store to disk.  Perhaps some other process is leaking memory?  Process memory: 10.83 GB -- Worker memory limit: 13.65 GB\n",
            "distributed.worker - WARNING - Memory use is high but worker has no data to store to disk.  Perhaps some other process is leaking memory?  Process memory: 10.83 GB -- Worker memory limit: 13.65 GB\n",
            "distributed.worker - WARNING - Memory use is high but worker has no data to store to disk.  Perhaps some other process is leaking memory?  Process memory: 10.84 GB -- Worker memory limit: 13.65 GB\n"
          ],
          "name": "stderr"
        },
        {
          "output_type": "stream",
          "text": [
            "number of active edges : 22\n",
            "scenario : 5 time : 37\n"
          ],
          "name": "stdout"
        },
        {
          "output_type": "stream",
          "text": [
            "distributed.worker - WARNING - Memory use is high but worker has no data to store to disk.  Perhaps some other process is leaking memory?  Process memory: 10.84 GB -- Worker memory limit: 13.65 GB\n",
            "distributed.worker - WARNING - Memory use is high but worker has no data to store to disk.  Perhaps some other process is leaking memory?  Process memory: 10.84 GB -- Worker memory limit: 13.65 GB\n",
            "distributed.worker - WARNING - Memory use is high but worker has no data to store to disk.  Perhaps some other process is leaking memory?  Process memory: 10.84 GB -- Worker memory limit: 13.65 GB\n",
            "distributed.worker - WARNING - Memory use is high but worker has no data to store to disk.  Perhaps some other process is leaking memory?  Process memory: 10.84 GB -- Worker memory limit: 13.65 GB\n"
          ],
          "name": "stderr"
        },
        {
          "output_type": "stream",
          "text": [
            "number of active edges : 20\n",
            "scenario : 5 time : 38\n"
          ],
          "name": "stdout"
        },
        {
          "output_type": "stream",
          "text": [
            "distributed.worker - WARNING - Memory use is high but worker has no data to store to disk.  Perhaps some other process is leaking memory?  Process memory: 10.85 GB -- Worker memory limit: 13.65 GB\n",
            "distributed.worker - WARNING - Memory use is high but worker has no data to store to disk.  Perhaps some other process is leaking memory?  Process memory: 10.85 GB -- Worker memory limit: 13.65 GB\n",
            "distributed.worker - WARNING - Memory use is high but worker has no data to store to disk.  Perhaps some other process is leaking memory?  Process memory: 10.85 GB -- Worker memory limit: 13.65 GB\n",
            "distributed.worker - WARNING - Memory use is high but worker has no data to store to disk.  Perhaps some other process is leaking memory?  Process memory: 10.85 GB -- Worker memory limit: 13.65 GB"
          ],
          "name": "stderr"
        },
        {
          "output_type": "stream",
          "text": [
            "number of active edges : 19\n",
            "scenario : 5 time : 39\n"
          ],
          "name": "stdout"
        },
        {
          "output_type": "stream",
          "text": [
            "\n",
            "distributed.worker - WARNING - Memory use is high but worker has no data to store to disk.  Perhaps some other process is leaking memory?  Process memory: 10.81 GB -- Worker memory limit: 13.65 GB\n",
            "distributed.worker - WARNING - Memory use is high but worker has no data to store to disk.  Perhaps some other process is leaking memory?  Process memory: 10.83 GB -- Worker memory limit: 13.65 GB\n",
            "distributed.worker - WARNING - Memory use is high but worker has no data to store to disk.  Perhaps some other process is leaking memory?  Process memory: 10.85 GB -- Worker memory limit: 13.65 GB\n"
          ],
          "name": "stderr"
        },
        {
          "output_type": "stream",
          "text": [
            "number of active edges : 21\n",
            "scenario : 5 time : 40\n"
          ],
          "name": "stdout"
        },
        {
          "output_type": "stream",
          "text": [
            "distributed.worker - WARNING - Memory use is high but worker has no data to store to disk.  Perhaps some other process is leaking memory?  Process memory: 10.81 GB -- Worker memory limit: 13.65 GB\n",
            "distributed.worker - WARNING - Memory use is high but worker has no data to store to disk.  Perhaps some other process is leaking memory?  Process memory: 10.82 GB -- Worker memory limit: 13.65 GB\n",
            "distributed.worker - WARNING - Memory use is high but worker has no data to store to disk.  Perhaps some other process is leaking memory?  Process memory: 10.82 GB -- Worker memory limit: 13.65 GB\n",
            "distributed.worker - WARNING - Memory use is high but worker has no data to store to disk.  Perhaps some other process is leaking memory?  Process memory: 10.82 GB -- Worker memory limit: 13.65 GB\n"
          ],
          "name": "stderr"
        },
        {
          "output_type": "stream",
          "text": [
            "number of active edges : 22\n",
            "scenario : 5 time : 41\n"
          ],
          "name": "stdout"
        },
        {
          "output_type": "stream",
          "text": [
            "distributed.worker - WARNING - Memory use is high but worker has no data to store to disk.  Perhaps some other process is leaking memory?  Process memory: 10.82 GB -- Worker memory limit: 13.65 GB\n",
            "distributed.worker - WARNING - Memory use is high but worker has no data to store to disk.  Perhaps some other process is leaking memory?  Process memory: 10.82 GB -- Worker memory limit: 13.65 GB\n",
            "distributed.worker - WARNING - Memory use is high but worker has no data to store to disk.  Perhaps some other process is leaking memory?  Process memory: 10.82 GB -- Worker memory limit: 13.65 GB\n",
            "distributed.worker - WARNING - Memory use is high but worker has no data to store to disk.  Perhaps some other process is leaking memory?  Process memory: 10.82 GB -- Worker memory limit: 13.65 GB\n"
          ],
          "name": "stderr"
        },
        {
          "output_type": "stream",
          "text": [
            "number of active edges : 15\n",
            "scenario : 5 time : 42\n"
          ],
          "name": "stdout"
        },
        {
          "output_type": "stream",
          "text": [
            "distributed.worker - WARNING - Memory use is high but worker has no data to store to disk.  Perhaps some other process is leaking memory?  Process memory: 10.82 GB -- Worker memory limit: 13.65 GB\n",
            "distributed.worker - WARNING - Memory use is high but worker has no data to store to disk.  Perhaps some other process is leaking memory?  Process memory: 10.82 GB -- Worker memory limit: 13.65 GB\n",
            "distributed.worker - WARNING - Memory use is high but worker has no data to store to disk.  Perhaps some other process is leaking memory?  Process memory: 10.82 GB -- Worker memory limit: 13.65 GB\n",
            "distributed.worker - WARNING - Memory use is high but worker has no data to store to disk.  Perhaps some other process is leaking memory?  Process memory: 10.82 GB -- Worker memory limit: 13.65 GB\n"
          ],
          "name": "stderr"
        },
        {
          "output_type": "stream",
          "text": [
            "number of active edges : 6\n",
            "scenario : 5 time : 43\n"
          ],
          "name": "stdout"
        },
        {
          "output_type": "stream",
          "text": [
            "distributed.worker - WARNING - Memory use is high but worker has no data to store to disk.  Perhaps some other process is leaking memory?  Process memory: 10.82 GB -- Worker memory limit: 13.65 GB\n",
            "distributed.worker - WARNING - Memory use is high but worker has no data to store to disk.  Perhaps some other process is leaking memory?  Process memory: 10.82 GB -- Worker memory limit: 13.65 GB\n",
            "distributed.worker - WARNING - Memory use is high but worker has no data to store to disk.  Perhaps some other process is leaking memory?  Process memory: 10.82 GB -- Worker memory limit: 13.65 GB\n"
          ],
          "name": "stderr"
        },
        {
          "output_type": "stream",
          "text": [
            "number of active edges : 1\n",
            "scenario : 5 time : 44\n"
          ],
          "name": "stdout"
        },
        {
          "output_type": "stream",
          "text": [
            "distributed.worker - WARNING - Memory use is high but worker has no data to store to disk.  Perhaps some other process is leaking memory?  Process memory: 10.82 GB -- Worker memory limit: 13.65 GB\n",
            "distributed.worker - WARNING - Memory use is high but worker has no data to store to disk.  Perhaps some other process is leaking memory?  Process memory: 10.83 GB -- Worker memory limit: 13.65 GB\n",
            "distributed.worker - WARNING - Memory use is high but worker has no data to store to disk.  Perhaps some other process is leaking memory?  Process memory: 10.83 GB -- Worker memory limit: 13.65 GB\n",
            "distributed.worker - WARNING - Memory use is high but worker has no data to store to disk.  Perhaps some other process is leaking memory?  Process memory: 10.82 GB -- Worker memory limit: 13.65 GB\n"
          ],
          "name": "stderr"
        },
        {
          "output_type": "stream",
          "text": [
            "number of active edges : 0\n",
            "scenario : 6 time : 0\n"
          ],
          "name": "stdout"
        },
        {
          "output_type": "stream",
          "text": [
            "distributed.worker - WARNING - Memory use is high but worker has no data to store to disk.  Perhaps some other process is leaking memory?  Process memory: 10.85 GB -- Worker memory limit: 13.65 GB\n"
          ],
          "name": "stderr"
        },
        {
          "output_type": "stream",
          "text": [
            "number of active edges : 0\n",
            "scenario : 7 time : 0\n",
            "number of active edges : 0\n"
          ],
          "name": "stdout"
        },
        {
          "output_type": "stream",
          "text": [
            "distributed.worker - WARNING - Memory use is high but worker has no data to store to disk.  Perhaps some other process is leaking memory?  Process memory: 10.84 GB -- Worker memory limit: 13.65 GB\n",
            "distributed.worker - WARNING - Memory use is high but worker has no data to store to disk.  Perhaps some other process is leaking memory?  Process memory: 10.84 GB -- Worker memory limit: 13.65 GB\n"
          ],
          "name": "stderr"
        },
        {
          "output_type": "stream",
          "text": [
            "scenario : 8 time : 0\n",
            "number of active edges : 33\n",
            "scenario : 9 time : 0\n"
          ],
          "name": "stdout"
        },
        {
          "output_type": "stream",
          "text": [
            "distributed.worker - WARNING - Memory use is high but worker has no data to store to disk.  Perhaps some other process is leaking memory?  Process memory: 10.84 GB -- Worker memory limit: 13.65 GB\n"
          ],
          "name": "stderr"
        },
        {
          "output_type": "stream",
          "text": [
            "number of active edges : 45\n",
            "scenario : 9 time : 1\n",
            "number of active edges : 63\n",
            "scenario : 9 time : 2\n"
          ],
          "name": "stdout"
        },
        {
          "output_type": "stream",
          "text": [
            "distributed.worker - WARNING - Memory use is high but worker has no data to store to disk.  Perhaps some other process is leaking memory?  Process memory: 10.84 GB -- Worker memory limit: 13.65 GB\n",
            "distributed.worker - WARNING - Memory use is high but worker has no data to store to disk.  Perhaps some other process is leaking memory?  Process memory: 10.84 GB -- Worker memory limit: 13.65 GB\n",
            "distributed.worker - WARNING - Memory use is high but worker has no data to store to disk.  Perhaps some other process is leaking memory?  Process memory: 10.83 GB -- Worker memory limit: 13.65 GB\n"
          ],
          "name": "stderr"
        },
        {
          "output_type": "stream",
          "text": [
            "number of active edges : 84\n",
            "scenario : 9 time : 3\n"
          ],
          "name": "stdout"
        },
        {
          "output_type": "stream",
          "text": [
            "distributed.worker - WARNING - Memory use is high but worker has no data to store to disk.  Perhaps some other process is leaking memory?  Process memory: 10.84 GB -- Worker memory limit: 13.65 GB\n",
            "distributed.worker - WARNING - Memory use is high but worker has no data to store to disk.  Perhaps some other process is leaking memory?  Process memory: 10.86 GB -- Worker memory limit: 13.65 GB\n"
          ],
          "name": "stderr"
        },
        {
          "output_type": "stream",
          "text": [
            "number of active edges : 97\n",
            "scenario : 9 time : 4\n"
          ],
          "name": "stdout"
        },
        {
          "output_type": "stream",
          "text": [
            "distributed.worker - WARNING - Memory use is high but worker has no data to store to disk.  Perhaps some other process is leaking memory?  Process memory: 10.87 GB -- Worker memory limit: 13.65 GB\n",
            "distributed.worker - WARNING - Memory use is high but worker has no data to store to disk.  Perhaps some other process is leaking memory?  Process memory: 10.87 GB -- Worker memory limit: 13.65 GB\n"
          ],
          "name": "stderr"
        },
        {
          "output_type": "stream",
          "text": [
            "number of active edges : 97\n",
            "scenario : 9 time : 5\n"
          ],
          "name": "stdout"
        },
        {
          "output_type": "stream",
          "text": [
            "distributed.worker - WARNING - Memory use is high but worker has no data to store to disk.  Perhaps some other process is leaking memory?  Process memory: 10.87 GB -- Worker memory limit: 13.65 GB\n",
            "distributed.worker - WARNING - Memory use is high but worker has no data to store to disk.  Perhaps some other process is leaking memory?  Process memory: 10.87 GB -- Worker memory limit: 13.65 GB\n"
          ],
          "name": "stderr"
        },
        {
          "output_type": "stream",
          "text": [
            "number of active edges : 84\n",
            "scenario : 9 time : 6\n"
          ],
          "name": "stdout"
        },
        {
          "output_type": "stream",
          "text": [
            "distributed.worker - WARNING - Memory use is high but worker has no data to store to disk.  Perhaps some other process is leaking memory?  Process memory: 10.87 GB -- Worker memory limit: 13.65 GB\n",
            "distributed.worker - WARNING - Memory use is high but worker has no data to store to disk.  Perhaps some other process is leaking memory?  Process memory: 10.87 GB -- Worker memory limit: 13.65 GB\n"
          ],
          "name": "stderr"
        },
        {
          "output_type": "stream",
          "text": [
            "number of active edges : 59\n",
            "scenario : 9 time : 7\n"
          ],
          "name": "stdout"
        },
        {
          "output_type": "stream",
          "text": [
            "distributed.worker - WARNING - Memory use is high but worker has no data to store to disk.  Perhaps some other process is leaking memory?  Process memory: 10.87 GB -- Worker memory limit: 13.65 GB\n",
            "distributed.worker - WARNING - Memory use is high but worker has no data to store to disk.  Perhaps some other process is leaking memory?  Process memory: 10.87 GB -- Worker memory limit: 13.65 GB\n"
          ],
          "name": "stderr"
        },
        {
          "output_type": "stream",
          "text": [
            "number of active edges : 38\n",
            "scenario : 9 time : 8\n"
          ],
          "name": "stdout"
        },
        {
          "output_type": "stream",
          "text": [
            "distributed.worker - WARNING - Memory use is high but worker has no data to store to disk.  Perhaps some other process is leaking memory?  Process memory: 10.87 GB -- Worker memory limit: 13.65 GB\n",
            "distributed.worker - WARNING - Memory use is high but worker has no data to store to disk.  Perhaps some other process is leaking memory?  Process memory: 10.88 GB -- Worker memory limit: 13.65 GB\n"
          ],
          "name": "stderr"
        },
        {
          "output_type": "stream",
          "text": [
            "number of active edges : 30\n",
            "scenario : 9 time : 9\n"
          ],
          "name": "stdout"
        },
        {
          "output_type": "stream",
          "text": [
            "distributed.worker - WARNING - Memory use is high but worker has no data to store to disk.  Perhaps some other process is leaking memory?  Process memory: 10.89 GB -- Worker memory limit: 13.65 GB\n",
            "distributed.worker - WARNING - Memory use is high but worker has no data to store to disk.  Perhaps some other process is leaking memory?  Process memory: 10.89 GB -- Worker memory limit: 13.65 GB\n"
          ],
          "name": "stderr"
        },
        {
          "output_type": "stream",
          "text": [
            "number of active edges : 24\n",
            "scenario : 9 time : 10\n"
          ],
          "name": "stdout"
        },
        {
          "output_type": "stream",
          "text": [
            "distributed.worker - WARNING - Memory use is high but worker has no data to store to disk.  Perhaps some other process is leaking memory?  Process memory: 10.90 GB -- Worker memory limit: 13.65 GB\n",
            "distributed.worker - WARNING - Memory use is high but worker has no data to store to disk.  Perhaps some other process is leaking memory?  Process memory: 10.90 GB -- Worker memory limit: 13.65 GB\n"
          ],
          "name": "stderr"
        },
        {
          "output_type": "stream",
          "text": [
            "number of active edges : 15\n",
            "scenario : 9 time : 11\n"
          ],
          "name": "stdout"
        },
        {
          "output_type": "stream",
          "text": [
            "distributed.worker - WARNING - Memory use is high but worker has no data to store to disk.  Perhaps some other process is leaking memory?  Process memory: 10.91 GB -- Worker memory limit: 13.65 GB\n"
          ],
          "name": "stderr"
        },
        {
          "output_type": "stream",
          "text": [
            "number of active edges : 8\n",
            "scenario : 9 time : 12\n"
          ],
          "name": "stdout"
        },
        {
          "output_type": "stream",
          "text": [
            "distributed.worker - WARNING - Worker is at 80% memory usage. Pausing worker.  Process memory: 10.93 GB -- Worker memory limit: 13.65 GB\n",
            "distributed.worker - WARNING - Memory use is high but worker has no data to store to disk.  Perhaps some other process is leaking memory?  Process memory: 10.93 GB -- Worker memory limit: 13.65 GB\n",
            "distributed.worker - WARNING - Memory use is high but worker has no data to store to disk.  Perhaps some other process is leaking memory?  Process memory: 10.93 GB -- Worker memory limit: 13.65 GB\n",
            "distributed.worker - WARNING - Memory use is high but worker has no data to store to disk.  Perhaps some other process is leaking memory?  Process memory: 10.93 GB -- Worker memory limit: 13.65 GB\n"
          ],
          "name": "stderr"
        },
        {
          "output_type": "stream",
          "text": [
            "number of active edges : 6\n",
            "scenario : 9 time : 13\n"
          ],
          "name": "stdout"
        },
        {
          "output_type": "stream",
          "text": [
            "distributed.worker - WARNING - Memory use is high but worker has no data to store to disk.  Perhaps some other process is leaking memory?  Process memory: 10.93 GB -- Worker memory limit: 13.65 GB\n",
            "distributed.worker - WARNING - Memory use is high but worker has no data to store to disk.  Perhaps some other process is leaking memory?  Process memory: 10.93 GB -- Worker memory limit: 13.65 GB\n"
          ],
          "name": "stderr"
        },
        {
          "output_type": "stream",
          "text": [
            "number of active edges : 3\n",
            "scenario : 9 time : 14\n"
          ],
          "name": "stdout"
        },
        {
          "output_type": "stream",
          "text": [
            "distributed.worker - WARNING - Worker is at 79% memory usage. Resuming worker. Process memory: 10.92 GB -- Worker memory limit: 13.65 GB\n",
            "distributed.worker - WARNING - Memory use is high but worker has no data to store to disk.  Perhaps some other process is leaking memory?  Process memory: 10.92 GB -- Worker memory limit: 13.65 GB\n"
          ],
          "name": "stderr"
        },
        {
          "output_type": "stream",
          "text": [
            "number of active edges : 0\n"
          ],
          "name": "stdout"
        }
      ]
    }
  ]
}