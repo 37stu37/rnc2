{
  "nbformat": 4,
  "nbformat_minor": 0,
  "metadata": {
    "kernelspec": {
      "display_name": "Python 3",
      "language": "python",
      "name": "python3"
    },
    "language_info": {
      "codemirror_mode": {
        "name": "ipython",
        "version": 3
      },
      "file_extension": ".py",
      "mimetype": "text/x-python",
      "name": "python",
      "nbconvert_exporter": "python",
      "pygments_lexer": "ipython3",
      "version": "3.7.3"
    },
    "colab": {
      "name": "temporal_network_try.ipynb",
      "provenance": [],
      "include_colab_link": true
    }
  },
  "cells": [
    {
      "cell_type": "markdown",
      "metadata": {
        "id": "view-in-github",
        "colab_type": "text"
      },
      "source": [
        "<a href=\"https://colab.research.google.com/github/37stu37/rnc2/blob/master/temporal_network_try.ipynb\" target=\"_parent\"><img src=\"https://colab.research.google.com/assets/colab-badge.svg\" alt=\"Open In Colab\"/></a>"
      ]
    },
    {
      "cell_type": "code",
      "metadata": {
        "id": "Q60FM7ZmLRAp",
        "colab_type": "code",
        "outputId": "0e7841a7-4a43-495d-a79b-0f010742354e",
        "colab": {
          "base_uri": "https://localhost:8080/",
          "height": 34
        }
      },
      "source": [
        "from google.colab import drive\n",
        "drive.mount('/content/drive')"
      ],
      "execution_count": 1,
      "outputs": [
        {
          "output_type": "stream",
          "text": [
            "Drive already mounted at /content/drive; to attempt to forcibly remount, call drive.mount(\"/content/drive\", force_remount=True).\n"
          ],
          "name": "stdout"
        }
      ]
    },
    {
      "cell_type": "code",
      "metadata": {
        "id": "7O35x2t8T4Dk",
        "colab_type": "code",
        "outputId": "698bb9b0-acf4-43ff-b922-e16d8fd1b4bb",
        "colab": {
          "base_uri": "https://localhost:8080/",
          "height": 316
        }
      },
      "source": [
        "%matplotlib inline\n",
        "import matplotlib.pyplot as plt\n",
        "import seaborn as sns\n",
        "import numpy as np\n",
        "import pandas as pd\n",
        "import dask.dataframe as dd\n",
        "import dask.array as da\n",
        "import sys\n",
        "import os\n",
        "from pathlib import Path\n",
        "import networkx as nx\n",
        "from numba import jit\n",
        "from dask.distributed import Client\n",
        "pd.options.mode.chained_assignment = None  # default='warn'\n",
        "\n",
        "client = Client(processes=False)\n",
        "client"
      ],
      "execution_count": 2,
      "outputs": [
        {
          "output_type": "stream",
          "text": [
            "/usr/local/lib/python3.6/dist-packages/statsmodels/tools/_testing.py:19: FutureWarning: pandas.util.testing is deprecated. Use the functions in the public API at pandas.testing instead.\n",
            "  import pandas.util.testing as tm\n",
            "/usr/local/lib/python3.6/dist-packages/distributed/bokeh/core.py:57: UserWarning: \n",
            "Failed to start diagnostics server on port 8787. [Errno 99] Cannot assign requested address\n",
            "  warnings.warn('\\n' + msg)\n",
            "/usr/local/lib/python3.6/dist-packages/distributed/deploy/local.py:197: UserWarning: \n",
            "Could not launch service 'bokeh' on port 8787. Got the following message:\n",
            "\n",
            "[Errno 99] Cannot assign requested address\n",
            "  self.scheduler.start(scheduler_address)\n"
          ],
          "name": "stderr"
        },
        {
          "output_type": "execute_result",
          "data": {
            "text/html": [
              "<table style=\"border: 2px solid white;\">\n",
              "<tr>\n",
              "<td style=\"vertical-align: top; border: 0px solid white\">\n",
              "<h3>Client</h3>\n",
              "<ul>\n",
              "  <li><b>Scheduler: </b>inproc://172.28.0.2/1433/1\n",
              "</ul>\n",
              "</td>\n",
              "<td style=\"vertical-align: top; border: 0px solid white\">\n",
              "<h3>Cluster</h3>\n",
              "<ul>\n",
              "  <li><b>Workers: </b>1</li>\n",
              "  <li><b>Cores: </b>2</li>\n",
              "  <li><b>Memory: </b>13.65 GB</li>\n",
              "</ul>\n",
              "</td>\n",
              "</tr>\n",
              "</table>"
            ],
            "text/plain": [
              "<Client: scheduler='inproc://172.28.0.2/1433/1' processes=1 cores=2>"
            ]
          },
          "metadata": {
            "tags": []
          },
          "execution_count": 2
        }
      ]
    },
    {
      "cell_type": "markdown",
      "metadata": {
        "id": "jlexdlgUUO3r",
        "colab_type": "text"
      },
      "source": [
        "\n",
        "\n",
        "---\n",
        "\n",
        "\n",
        "**Tentative code for rnc2 temporal network**\n",
        "\n",
        "@time\n",
        "\n",
        "Conditions -> Boolean mask -> Contacts -> Edgelist\n",
        "\n",
        "\n",
        "---\n",
        "\n"
      ]
    },
    {
      "cell_type": "code",
      "metadata": {
        "id": "NQZTDiIo1CX_",
        "colab_type": "code",
        "colab": {}
      },
      "source": [
        "# import data\n",
        "folder = Path('/content/drive/My Drive/04_Cloud/01_Work/Academia/01_Publications/00_Alex/005_RNC2')\n",
        "edge_file = folder / 'data' / 'Copy of edge_data.parquet'\n",
        "wind_file = folder / 'data' / 'Copy of GD_wind.csv'\n",
        "\n",
        "wind_data = pd.read_csv(wind_file) \n",
        "edgelist = pd.read_parquet(edge_file, engine='pyarrow')"
      ],
      "execution_count": 0,
      "outputs": []
    },
    {
      "cell_type": "markdown",
      "metadata": {
        "id": "PO0BvtdzZLWk",
        "colab_type": "text"
      },
      "source": [
        "**Conditions**\n",
        "\n",
        "\n",
        "---\n",
        "\n"
      ]
    },
    {
      "cell_type": "markdown",
      "metadata": {
        "id": "g9Vq0cczZSy4",
        "colab_type": "text"
      },
      "source": [
        "**Main**\n",
        "\n",
        "\n",
        "---\n",
        "\n"
      ]
    },
    {
      "cell_type": "code",
      "metadata": {
        "id": "pLBvdq4kFYnH",
        "colab_type": "code",
        "colab": {}
      },
      "source": [
        "def wind_scenario(t, wind_data):\n",
        "    if t == 0:\n",
        "      i = np.random.randint(0, wind_data.values.shape[0])\n",
        "      w = wind_data.values[i, 2]\n",
        "      dist = wind_data.values[i, 1]\n",
        "      b = wind_data.values[i, 3]\n",
        "      bear_max = b + 45  # wind direction\n",
        "      bear_min = b - 45\n",
        "      if b == 360:\n",
        "          bear_max = 45\n",
        "      if b <= 0:  # should not be necessary\n",
        "          bear_min = 0\n",
        "      if b == 999:\n",
        "          bear_max = 999\n",
        "          bear_min = 0\n",
        "      return bear_max, bear_min, dist # wind characteristics, bearing and distance\n",
        "    else:\n",
        "      return\n",
        "\n",
        "def wind_mask(e, w_bearing_max, w_bearing_min, w_distance):\n",
        "    mask1 = (e.bearing.values < w_bearing_max) & (e.bearing.values > w_bearing_min)\n",
        "    mask2 = e.distance.values < w_distance\n",
        "    mask = mask1 & mask2\n",
        "    return mask\n",
        "\n",
        "def ignition_mask(t, e, c):\n",
        "    # initial ignition\n",
        "    if t == 0:\n",
        "      rng = np.random.uniform(0, 1, size=e.values.shape[0])\n",
        "      mask = rng < e.IgnProb_bl.values\n",
        "      return mask\n",
        "    else:\n",
        "    # propagation\n",
        "      mask_previous_time = c.iloc[:, t-1] == 1\n",
        "      previousTarget = e.target.iloc[mask_previous_time.values]\n",
        "      mask = np.in1d(e.source.values, previousTarget.values)\n",
        "      return mask\n",
        "\n",
        "def not_burnt_mask(t, e, c):\n",
        "    if t > 1:\n",
        "      previouslyActivated = c.iloc[:,:t-1]\n",
        "      previouslyActivated_sum = previouslyActivated.sum(axis=1)\n",
        "      mask = np.where(previouslyActivated_sum> 0, 1, 0)\n",
        "      mask = mask != 1\n",
        "    else:\n",
        "      mask = c.iloc[:,0].values\n",
        "      mask = mask !=1\n",
        "    return mask"
      ],
      "execution_count": 0,
      "outputs": []
    },
    {
      "cell_type": "code",
      "metadata": {
        "id": "Q7pHNrjZN8Zw",
        "colab_type": "code",
        "colab": {}
      },
      "source": [
        "n=10\n",
        "for scenario in range(n):\n",
        "    condition = True\n",
        "    list_of_Activations = []\n",
        "    time = 0 \n",
        "    bear_max, bear_min, distance = wind_scenario(time, wind_data)\n",
        "    CoTime = pd.DataFrame() # CoTime = pd.DataFrame(np.ones((len(edgelist), 1)))\n",
        "    while condition = True:\n",
        "        print(\"scenario : {} time : {}\".format(scenario, time))\n",
        "        # ignititon and propagation\n",
        "        ignition_m = ignition_mask(time, edgelist, CoTime)\n",
        "        if time == 0:\n",
        "          CoTime.iloc[:,0] = mask\n",
        "        # targets under the wind\n",
        "        wind_m = wind_mask(edgelist, bear_max, bear_min, distance)\n",
        "        # not already burnt\n",
        "        not_burnt_m = not_burnt_mask(time, edgelist, CoTime)\n",
        "        # resulting mask\n",
        "        mask = (ignition_m & wind_m & not_burnt_m)\n",
        "        # add mask to CoTime\n",
        "        if time > 0:\n",
        "          CoTime = pd.DataFrame(np.c_[CoTime, mask*1])\n",
        "        # create Active edges\n",
        "        ActiveEdges = edgelist[mask]\n",
        "        if ActiveEdges is empty:\n",
        "\n",
        "        print(\"number of active edges : {}\".format(len(ActiveEdges)))\n",
        "        # add scenario and time to active edges\n",
        "        ActiveEdges[\"scenario\"] = scenario\n",
        "        ActiveEdges[\"time\"] = time\n",
        "        # append to list\n",
        "        list_of_Activations.append(ActiveEdges)\n",
        "        time += 1\n",
        "    Activations = pd.concat(list_of_Activations)\n",
        "    Activations.to_parquet(folder / 'output' / 'scenario{}_Activations.parquet'.format(scenario), engine='pyarrow')"
      ],
      "execution_count": 0,
      "outputs": []
    }
  ]
}