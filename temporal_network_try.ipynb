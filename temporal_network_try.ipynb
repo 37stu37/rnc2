{
  "nbformat": 4,
  "nbformat_minor": 0,
  "metadata": {
    "kernelspec": {
      "display_name": "Python 3",
      "language": "python",
      "name": "python3"
    },
    "language_info": {
      "codemirror_mode": {
        "name": "ipython",
        "version": 3
      },
      "file_extension": ".py",
      "mimetype": "text/x-python",
      "name": "python",
      "nbconvert_exporter": "python",
      "pygments_lexer": "ipython3",
      "version": "3.7.3"
    },
    "colab": {
      "name": "temporal_network_try.ipynb",
      "provenance": [],
      "include_colab_link": true
    }
  },
  "cells": [
    {
      "cell_type": "markdown",
      "metadata": {
        "id": "view-in-github",
        "colab_type": "text"
      },
      "source": [
        "<a href=\"https://colab.research.google.com/github/37stu37/rnc2/blob/master/temporal_network_try.ipynb\" target=\"_parent\"><img src=\"https://colab.research.google.com/assets/colab-badge.svg\" alt=\"Open In Colab\"/></a>"
      ]
    },
    {
      "cell_type": "code",
      "metadata": {
        "id": "Q60FM7ZmLRAp",
        "colab_type": "code",
        "outputId": "d693e120-1d07-4c79-afdd-2814ac5973a2",
        "colab": {
          "base_uri": "https://localhost:8080/",
          "height": 34
        }
      },
      "source": [
        "from google.colab import drive\n",
        "drive.mount('/content/drive')"
      ],
      "execution_count": 8,
      "outputs": [
        {
          "output_type": "stream",
          "text": [
            "Drive already mounted at /content/drive; to attempt to forcibly remount, call drive.mount(\"/content/drive\", force_remount=True).\n"
          ],
          "name": "stdout"
        }
      ]
    },
    {
      "cell_type": "code",
      "metadata": {
        "id": "7O35x2t8T4Dk",
        "colab_type": "code",
        "outputId": "82b3805e-eab6-4d98-d49c-bdc1b8c53160",
        "colab": {
          "base_uri": "https://localhost:8080/",
          "height": 262
        }
      },
      "source": [
        "%matplotlib inline\n",
        "import matplotlib.pyplot as plt\n",
        "import seaborn as sns\n",
        "import numpy as np\n",
        "import pandas as pd\n",
        "import dask.dataframe as dd\n",
        "import dask.array as da\n",
        "import sys\n",
        "import os\n",
        "from pathlib import Path\n",
        "import networkx as nx\n",
        "from numba import jit\n",
        "from dask.distributed import Client\n",
        "pd.options.mode.chained_assignment = None  # default='warn'\n",
        "\n",
        "client = Client(processes=False)\n",
        "client"
      ],
      "execution_count": 9,
      "outputs": [
        {
          "output_type": "stream",
          "text": [
            "/usr/local/lib/python3.6/dist-packages/distributed/bokeh/core.py:57: UserWarning: \n",
            "Failed to start diagnostics server on port 8787. [Errno 99] Cannot assign requested address\n",
            "  warnings.warn('\\n' + msg)\n",
            "/usr/local/lib/python3.6/dist-packages/distributed/deploy/local.py:197: UserWarning: \n",
            "Could not launch service 'bokeh' on port 8787. Got the following message:\n",
            "\n",
            "[Errno 99] Cannot assign requested address\n",
            "  self.scheduler.start(scheduler_address)\n"
          ],
          "name": "stderr"
        },
        {
          "output_type": "execute_result",
          "data": {
            "text/html": [
              "<table style=\"border: 2px solid white;\">\n",
              "<tr>\n",
              "<td style=\"vertical-align: top; border: 0px solid white\">\n",
              "<h3>Client</h3>\n",
              "<ul>\n",
              "  <li><b>Scheduler: </b>inproc://172.28.0.2/125/13\n",
              "</ul>\n",
              "</td>\n",
              "<td style=\"vertical-align: top; border: 0px solid white\">\n",
              "<h3>Cluster</h3>\n",
              "<ul>\n",
              "  <li><b>Workers: </b>1</li>\n",
              "  <li><b>Cores: </b>2</li>\n",
              "  <li><b>Memory: </b>13.65 GB</li>\n",
              "</ul>\n",
              "</td>\n",
              "</tr>\n",
              "</table>"
            ],
            "text/plain": [
              "<Client: scheduler='inproc://172.28.0.2/125/13' processes=1 cores=2>"
            ]
          },
          "metadata": {
            "tags": []
          },
          "execution_count": 9
        }
      ]
    },
    {
      "cell_type": "markdown",
      "metadata": {
        "id": "jlexdlgUUO3r",
        "colab_type": "text"
      },
      "source": [
        "\n",
        "\n",
        "---\n",
        "\n",
        "\n",
        "**Tentative code for rnc2 temporal network**\n",
        "\n",
        "@time\n",
        "\n",
        "Conditions -> Boolean mask -> Contacts -> Edgelist\n",
        "\n",
        "\n",
        "---\n",
        "\n"
      ]
    },
    {
      "cell_type": "code",
      "metadata": {
        "id": "NQZTDiIo1CX_",
        "colab_type": "code",
        "colab": {}
      },
      "source": [
        "# import data\n",
        "folder = Path('/content/drive/My Drive/04_Cloud/01_Work/Academia/01_Publications/00_Alex/005_RNC2')\n",
        "edge_file = folder / 'data' / 'Copy of edge_data.parquet'\n",
        "wind_file = folder / 'data' / 'Copy of GD_wind.csv'\n",
        "\n",
        "wind_data = pd.read_csv(wind_file) \n",
        "edgelist = pd.read_parquet(edge_file, engine='pyarrow')"
      ],
      "execution_count": 0,
      "outputs": []
    },
    {
      "cell_type": "markdown",
      "metadata": {
        "id": "PO0BvtdzZLWk",
        "colab_type": "text"
      },
      "source": [
        "**Conditions**\n",
        "\n",
        "\n",
        "---\n",
        "\n"
      ]
    },
    {
      "cell_type": "code",
      "metadata": {
        "id": "uEsYtoLTMnWM",
        "colab_type": "code",
        "colab": {}
      },
      "source": [
        "def wind_scenario(wind_data):  \n",
        "    i = np.random.randint(0, wind_data.values.shape[0])\n",
        "    w = wind_data.values[i, 2]\n",
        "    dist = wind_data.values[i, 1]\n",
        "    b = wind_data.values[i, 3]\n",
        "    bear_max = b + 45  # wind direction\n",
        "    bear_min = b - 45\n",
        "    if b == 360:\n",
        "        bear_max = 45\n",
        "    if b <= 0:  # should not be necessary\n",
        "        bear_min = 0\n",
        "    if b == 999:\n",
        "        bear_max = 999\n",
        "        bear_min = 0\n",
        "    return bear_max, bear_min, dist # wind characteristics, bearing and distance\n",
        "\n",
        "# ignition ?\n",
        "def mask_ignition_rng(e):\n",
        "    rng = np.random.uniform(0, 1, size=e.values.shape[0])\n",
        "    mask = rng < e.IgnProb_bl.values\n",
        "    return mask*1\n",
        "\n",
        "# wind direction\n",
        "def mask_wind_direction(e, w_bear_max, w_bear_min):\n",
        "    mask = (e.bearing.values < w_bear_max) & (e.bearing.values > w_bear_min) \n",
        "    return mask*1\n",
        "\n",
        "# wind speed\n",
        "def mask_wind_speed(e, w_dist):\n",
        "    mask = e.distance.values < w_dist\n",
        "    return mask*1\n",
        "\n",
        "# not burnt in previous fires ?\n",
        "def mask_burnt(t, e, c):\n",
        "    if t != 1:\n",
        "      previouslyActivated = c[:,:t-1].sum(axis=1)\n",
        "    else:\n",
        "      previouslyActivated = c[:,0]\n",
        "    mask = np.where(previouslyActivated > 0, 1, 0)\n",
        "    # mask = mask == 0 # == 0 means that no fire previously occured\n",
        "    return mask*1\n",
        "\n",
        "# target -> source ?\n",
        "def mask_target_to_source(t, e, c):\n",
        "    previousTargetAtTime = e.target[c[:, t-1] == 1]\n",
        "    mask = np.in1d(e.source.values, previousTargetAtTime.values)\n",
        "    return mask*1"
      ],
      "execution_count": 0,
      "outputs": []
    },
    {
      "cell_type": "markdown",
      "metadata": {
        "id": "g9Vq0cczZSy4",
        "colab_type": "text"
      },
      "source": [
        "**Main**\n",
        "\n",
        "\n",
        "---\n",
        "\n"
      ]
    },
    {
      "cell_type": "code",
      "metadata": {
        "id": "qAnZzNbFnbiO",
        "colab_type": "code",
        "colab": {
          "base_uri": "https://localhost:8080/",
          "height": 357
        },
        "outputId": "5718dc97-65c7-4f11-fc86-133ff0fd0b46"
      },
      "source": [
        "for scenario in range(2):\n",
        "    time = 0 \n",
        "    # initial conditions\n",
        "    m_ignition_rng = mask_ignition_rng(edgelist)\n",
        "    print(\"{} ignitions : {} over {} total ~ {} % of buildings\".format(m_ignition_rng.sum(axis=0), m_ignition_rng[:5], edgelist.shape[0], \n",
        "                                                        (m_ignition_rng.sum(axis=0) / edgelist.shape[0])* 100))\n",
        "    ActTime = np.zeros((m_ignition_rng.shape[0],1))\n",
        "    ActTime[:, 0] = m_ignition_rng\n",
        "    # wind conditions and mask\n",
        "    w_direction_max, w_direction_min, w_distance = wind_scenario(wind_data)\n",
        "    m_wind_direction = mask_wind_direction(edgelist, w_direction_max, w_direction_min)\n",
        "    m_wind_speed = mask_wind_speed(edgelist, w_distance)\n",
        "    m_wind = m_wind_direction & m_wind_speed\n",
        "    # print(\"wind_direction : {}, wind_speed : {}, wind : {}\".format(m_wind_direction[:5], m_wind_speed[:5], m_wind[:5]))\n",
        "    while ActTime[:,-1].sum(axis=0) != 0:\n",
        "        time += 1\n",
        "        print('{} still burning @ time {} ########'.format(int(ActTime[:,-1].sum(axis=0)), time))\n",
        "        # fire mask\n",
        "        m_targetSource = mask_target_to_source(time, edgelist, ActTime)\n",
        "        print(\"{} target to source\".format(m_targetSource.sum(axis=0)))\n",
        "        m_burnt = mask_burnt(time, edgelist, ActTime)\n",
        "        print(\"{} burnt\".format(m_burnt.sum(axis=0)))\n",
        "        m_fire = m_burnt & m_targetSource\n",
        "        print(\"{} fire\".format(m_fire.sum(axis=0)))\n",
        "        # cumulated mask\n",
        "        m_propagated= m_wind & m_fire\n",
        "        print(\"{} cumulated\".format(m_propagated.sum(axis=0)))\n",
        "        # append the activated layers to ActTime\n",
        "        ActTime = np.c_[ActTime, m_propagated]\n",
        "        # get the active edges\n",
        "        ActEdges = edgelist[ActTime[:,time] == 1]\n",
        "        print(\"ActEdges : {}\".format(ActEdges.shape))"
      ],
      "execution_count": 215,
      "outputs": [
        {
          "output_type": "stream",
          "text": [
            "1386 ignitions : [0 0 0 0 0] over 3457222 total ~ 0.040089991328297686 % of buildings\n",
            "1386 still burning @ time 1 ########\n",
            "70043 target to source\n",
            "1386 burnt\n",
            "68 fire\n",
            "0 cumulated\n",
            "ActEdges : (0, 5)\n",
            "1360 ignitions : [0 0 0 0 0] over 3457222 total ~ 0.03933794242892125 % of buildings\n",
            "1360 still burning @ time 1 ########\n",
            "67088 target to source\n",
            "1360 burnt\n",
            "48 fire\n",
            "3 cumulated\n",
            "ActEdges : (3, 5)\n",
            "3 still burning @ time 2 ########\n",
            "136 target to source\n",
            "1360 burnt\n",
            "1 fire\n",
            "0 cumulated\n",
            "ActEdges : (0, 5)\n"
          ],
          "name": "stdout"
        }
      ]
    },
    {
      "cell_type": "code",
      "metadata": {
        "id": "Q7pHNrjZN8Zw",
        "colab_type": "code",
        "colab": {}
      },
      "source": [
        ""
      ],
      "execution_count": 0,
      "outputs": []
    }
  ]
}