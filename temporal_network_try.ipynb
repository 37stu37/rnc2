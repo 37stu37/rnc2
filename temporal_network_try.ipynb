{
  "nbformat": 4,
  "nbformat_minor": 0,
  "metadata": {
    "kernelspec": {
      "display_name": "Python 3",
      "language": "python",
      "name": "python3"
    },
    "language_info": {
      "codemirror_mode": {
        "name": "ipython",
        "version": 3
      },
      "file_extension": ".py",
      "mimetype": "text/x-python",
      "name": "python",
      "nbconvert_exporter": "python",
      "pygments_lexer": "ipython3",
      "version": "3.7.3"
    },
    "colab": {
      "name": "temporal_network_try.ipynb",
      "provenance": [],
      "include_colab_link": true
    }
  },
  "cells": [
    {
      "cell_type": "markdown",
      "metadata": {
        "id": "view-in-github",
        "colab_type": "text"
      },
      "source": [
        "<a href=\"https://colab.research.google.com/github/37stu37/rnc2/blob/master/temporal_network_try.ipynb\" target=\"_parent\"><img src=\"https://colab.research.google.com/assets/colab-badge.svg\" alt=\"Open In Colab\"/></a>"
      ]
    },
    {
      "cell_type": "code",
      "metadata": {
        "id": "Q60FM7ZmLRAp",
        "colab_type": "code",
        "outputId": "572fae03-787b-478c-bedb-5617f28d6140",
        "colab": {
          "base_uri": "https://localhost:8080/",
          "height": 122
        }
      },
      "source": [
        "from google.colab import drive\n",
        "drive.mount('/content/drive')"
      ],
      "execution_count": 1,
      "outputs": [
        {
          "output_type": "stream",
          "text": [
            "Go to this URL in a browser: https://accounts.google.com/o/oauth2/auth?client_id=947318989803-6bn6qk8qdgf4n4g3pfee6491hc0brc4i.apps.googleusercontent.com&redirect_uri=urn%3aietf%3awg%3aoauth%3a2.0%3aoob&response_type=code&scope=email%20https%3a%2f%2fwww.googleapis.com%2fauth%2fdocs.test%20https%3a%2f%2fwww.googleapis.com%2fauth%2fdrive%20https%3a%2f%2fwww.googleapis.com%2fauth%2fdrive.photos.readonly%20https%3a%2f%2fwww.googleapis.com%2fauth%2fpeopleapi.readonly\n",
            "\n",
            "Enter your authorization code:\n",
            "··········\n",
            "Mounted at /content/drive\n"
          ],
          "name": "stdout"
        }
      ]
    },
    {
      "cell_type": "code",
      "metadata": {
        "id": "7O35x2t8T4Dk",
        "colab_type": "code",
        "colab": {}
      },
      "source": [
        "import numpy as np\n",
        "import pandas as pd\n",
        "from pathlib import Path\n",
        "from numba import jit\n",
        "\n",
        "pd.options.mode.chained_assignment = None  # default='warn'"
      ],
      "execution_count": 0,
      "outputs": []
    },
    {
      "cell_type": "markdown",
      "metadata": {
        "id": "jlexdlgUUO3r",
        "colab_type": "text"
      },
      "source": [
        "\n",
        "\n",
        "---\n",
        "\n",
        "\n",
        "**Tentative code for rnc2 temporal network**\n",
        "\n",
        "@time\n",
        "\n",
        "Conditions -> Boolean mask -> Contacts -> Edgelist\n",
        "\n",
        "\n",
        "---\n",
        "\n"
      ]
    },
    {
      "cell_type": "code",
      "metadata": {
        "id": "NQZTDiIo1CX_",
        "colab_type": "code",
        "colab": {}
      },
      "source": [
        "# import data\n",
        "folder = Path('/content/drive/My Drive/04_Cloud/01_Work/Academia/01_Publications/00_Alex/005_RNC2')\n",
        "edge_file = folder / 'data' / 'Copy of edge_data.parquet'\n",
        "wind_file = folder / 'data' / 'Copy of GD_wind.csv'\n",
        "\n",
        "wind_data = pd.read_csv(wind_file) \n",
        "edgelist = pd.read_parquet(edge_file, engine='pyarrow')"
      ],
      "execution_count": 0,
      "outputs": []
    },
    {
      "cell_type": "code",
      "metadata": {
        "id": "pLBvdq4kFYnH",
        "colab_type": "code",
        "colab": {}
      },
      "source": [
        "def wind_scenario(wind_data):\n",
        "      i = np.random.randint(0, wind_data.values.shape[0])\n",
        "      w = wind_data.values[i, 2]\n",
        "      dist = wind_data.values[i, 1]\n",
        "      b = wind_data.values[i, 3]\n",
        "      bear_max = b + 45  # wind direction\n",
        "      bear_min = b - 45\n",
        "      if b == 360:\n",
        "          bear_max = 45\n",
        "      if b <= 0:  # should not be necessary\n",
        "          bear_min = 0\n",
        "      if b == 999:\n",
        "          bear_max = 999\n",
        "          bear_min = 0\n",
        "      return bear_max, bear_min, dist # wind characteristics, bearing and distance"
      ],
      "execution_count": 0,
      "outputs": []
    },
    {
      "cell_type": "markdown",
      "metadata": {
        "id": "g9Vq0cczZSy4",
        "colab_type": "text"
      },
      "source": [
        "**Main**\n",
        "\n",
        "\n",
        "---\n",
        "\n"
      ]
    },
    {
      "cell_type": "code",
      "metadata": {
        "id": "Q7pHNrjZN8Zw",
        "colab_type": "code",
        "colab": {
          "base_uri": "https://localhost:8080/",
          "height": 221
        },
        "outputId": "ebded0bf-35a8-442b-a668-ba931d36b436"
      },
      "source": [
        "%%time\n",
        "n=10\n",
        "for scenario in range(n):\n",
        "    # initial setup\n",
        "    condition = True\n",
        "    list_of_Activations = []\n",
        "    time = 0 \n",
        "    \n",
        "    # wind conditions\n",
        "    w_bearing_max, w_bearing_min, w_distance = wind_scenario(wind_data)\n",
        "    \n",
        "    # ignition\n",
        "    rng = np.random.uniform(0, 1, size=edgelist.values.shape[0])\n",
        "    CoTime = pd.DataFrame ((rng < edgelist.IgnProb_bl.values)*1, \n",
        "                           columns=['initial_state'])\n",
        "    # print(\"number of ignitions : {}\".format(len(CoTime[CoTime.initial_state == 1])))\n",
        "    \n",
        "    # add scenario and time to active edges\n",
        "    ActiveEdges = edgelist[CoTime['initial_state'] == 1]\n",
        "    ActiveEdges[\"scenario\"] = scenario\n",
        "    ActiveEdges[\"time\"] = time\n",
        "    list_of_Activations.append(ActiveEdges)\n",
        "    \n",
        "    while condition:\n",
        "        # print(\"scenario : {} time : {}\".format(scenario, time))\n",
        "        \n",
        "        # propagation mask\n",
        "        maskPreviousEdge = CoTime.iloc[:, -1] == 1 \n",
        "        newSource = edgelist.target.values[maskPreviousEdge]\n",
        "        maskSource = np.in1d(edgelist.source.values, newSource)\n",
        "        # print(\"shape maskSource ; {}\".format(maskSource.shape))\n",
        "        \n",
        "        # wind mask\n",
        "        maskWind = (edgelist.bearing.values < w_bearing_max) & \\\n",
        "            (edgelist.bearing.values > w_bearing_min) & \\\n",
        "                (edgelist.distance.values < w_distance)\n",
        "        # print(\"shape maskWind ; {}\".format(maskWind.shape))\n",
        "        \n",
        "        # burnt mask\n",
        "        previouslyActivated = CoTime.iloc[:, :-1].sum(axis=1) # all 0 for time == 0, intact\n",
        "        maskBurnt = np.where(previouslyActivated> 0, 0, 1) # burnt == 0, intact == 1(mask needed)\n",
        "        # print(\"shape maskBurnt ; {}\".format(maskBurnt.shape))\n",
        "        \n",
        "        # store mask in CoTime matrix\n",
        "        maskMerge = (maskSource) & (maskWind) & (maskBurnt)\n",
        "        CoTime['time{}'.format(time)] = maskMerge\n",
        "        # print(\"shape maskMerge ; {}\".format(maskMerge.shape))\n",
        "        \n",
        "        # Active edges at this time\n",
        "        ActiveEdges = edgelist[CoTime['time{}'.format(time)] == 1]\n",
        "        ActiveEdges[\"scenario\"] = scenario\n",
        "        ActiveEdges[\"time\"] = time\n",
        "        list_of_Activations.append(ActiveEdges)\n",
        "        \n",
        "        # break while condition if no more fires\n",
        "        fires = (CoTime['time{}'.format(time)] == 1).sum(axis=0)\n",
        "        condition = fires != 0\n",
        "        # print(\"condition {} at time {}\".format(condition, time))\n",
        "        \n",
        "        # advance time\n",
        "        time += 1\n",
        "        \n",
        "    # if while loop broken, save activation for the scenario\n",
        "    print(\"scenario : {} time : {}\".format(scenario, time))\n",
        "    Activations = pd.concat(list_of_Activations)\n",
        "    Activations.to_parquet(folder / 'output' / 'scenario{}_Activations.parquet'.format(scenario), engine='pyarrow')"
      ],
      "execution_count": 5,
      "outputs": [
        {
          "output_type": "stream",
          "text": [
            "scenario : 0 time : 1\n",
            "scenario : 1 time : 1\n",
            "scenario : 2 time : 1\n",
            "scenario : 3 time : 63\n",
            "scenario : 4 time : 30\n",
            "scenario : 5 time : 1\n",
            "scenario : 6 time : 30\n",
            "scenario : 7 time : 1\n",
            "scenario : 8 time : 35\n",
            "scenario : 9 time : 77\n",
            "CPU times: user 3min 51s, sys: 8.74 s, total: 4min\n",
            "Wall time: 4min 9s\n"
          ],
          "name": "stdout"
        }
      ]
    }
  ]
}