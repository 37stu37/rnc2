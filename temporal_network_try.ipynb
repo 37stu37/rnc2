{
  "nbformat": 4,
  "nbformat_minor": 0,
  "metadata": {
    "kernelspec": {
      "display_name": "Python 3",
      "language": "python",
      "name": "python3"
    },
    "language_info": {
      "codemirror_mode": {
        "name": "ipython",
        "version": 3
      },
      "file_extension": ".py",
      "mimetype": "text/x-python",
      "name": "python",
      "nbconvert_exporter": "python",
      "pygments_lexer": "ipython3",
      "version": "3.7.3"
    },
    "colab": {
      "name": "temporal_network_try.ipynb",
      "provenance": [],
      "include_colab_link": true
    }
  },
  "cells": [
    {
      "cell_type": "markdown",
      "metadata": {
        "id": "view-in-github",
        "colab_type": "text"
      },
      "source": [
        "<a href=\"https://colab.research.google.com/github/37stu37/rnc2/blob/master/temporal_network_try.ipynb\" target=\"_parent\"><img src=\"https://colab.research.google.com/assets/colab-badge.svg\" alt=\"Open In Colab\"/></a>"
      ]
    },
    {
      "cell_type": "code",
      "metadata": {
        "id": "Q60FM7ZmLRAp",
        "colab_type": "code",
        "outputId": "ad4d0f79-55c9-4165-a540-18ceea521a70",
        "colab": {
          "base_uri": "https://localhost:8080/",
          "height": 122
        }
      },
      "source": [
        "from google.colab import drive\n",
        "drive.mount('/content/drive')"
      ],
      "execution_count": 2,
      "outputs": [
        {
          "output_type": "stream",
          "text": [
            "Go to this URL in a browser: https://accounts.google.com/o/oauth2/auth?client_id=947318989803-6bn6qk8qdgf4n4g3pfee6491hc0brc4i.apps.googleusercontent.com&redirect_uri=urn%3aietf%3awg%3aoauth%3a2.0%3aoob&response_type=code&scope=email%20https%3a%2f%2fwww.googleapis.com%2fauth%2fdocs.test%20https%3a%2f%2fwww.googleapis.com%2fauth%2fdrive%20https%3a%2f%2fwww.googleapis.com%2fauth%2fdrive.photos.readonly%20https%3a%2f%2fwww.googleapis.com%2fauth%2fpeopleapi.readonly\n",
            "\n",
            "Enter your authorization code:\n",
            "··········\n",
            "Mounted at /content/drive\n"
          ],
          "name": "stdout"
        }
      ]
    },
    {
      "cell_type": "code",
      "metadata": {
        "id": "7O35x2t8T4Dk",
        "colab_type": "code",
        "outputId": "94dabbee-0a8c-4165-f9ee-3e12bf259146",
        "colab": {
          "base_uri": "https://localhost:8080/",
          "height": 316
        }
      },
      "source": [
        "%matplotlib inline\n",
        "import matplotlib.pyplot as plt\n",
        "import seaborn as sns\n",
        "import numpy as np\n",
        "import pandas as pd\n",
        "import dask.dataframe as dd\n",
        "import dask.array as da\n",
        "import sys\n",
        "import os\n",
        "from pathlib import Path\n",
        "import networkx as nx\n",
        "from numba import jit\n",
        "from dask.distributed import Client\n",
        "pd.options.mode.chained_assignment = None  # default='warn'\n",
        "\n",
        "client = Client(processes=False)\n",
        "client"
      ],
      "execution_count": 3,
      "outputs": [
        {
          "output_type": "stream",
          "text": [
            "/usr/local/lib/python3.6/dist-packages/statsmodels/tools/_testing.py:19: FutureWarning: pandas.util.testing is deprecated. Use the functions in the public API at pandas.testing instead.\n",
            "  import pandas.util.testing as tm\n",
            "/usr/local/lib/python3.6/dist-packages/distributed/bokeh/core.py:57: UserWarning: \n",
            "Failed to start diagnostics server on port 8787. [Errno 99] Cannot assign requested address\n",
            "  warnings.warn('\\n' + msg)\n",
            "/usr/local/lib/python3.6/dist-packages/distributed/deploy/local.py:197: UserWarning: \n",
            "Could not launch service 'bokeh' on port 8787. Got the following message:\n",
            "\n",
            "[Errno 99] Cannot assign requested address\n",
            "  self.scheduler.start(scheduler_address)\n"
          ],
          "name": "stderr"
        },
        {
          "output_type": "execute_result",
          "data": {
            "text/html": [
              "<table style=\"border: 2px solid white;\">\n",
              "<tr>\n",
              "<td style=\"vertical-align: top; border: 0px solid white\">\n",
              "<h3>Client</h3>\n",
              "<ul>\n",
              "  <li><b>Scheduler: </b>inproc://172.28.0.2/122/1\n",
              "</ul>\n",
              "</td>\n",
              "<td style=\"vertical-align: top; border: 0px solid white\">\n",
              "<h3>Cluster</h3>\n",
              "<ul>\n",
              "  <li><b>Workers: </b>1</li>\n",
              "  <li><b>Cores: </b>2</li>\n",
              "  <li><b>Memory: </b>13.65 GB</li>\n",
              "</ul>\n",
              "</td>\n",
              "</tr>\n",
              "</table>"
            ],
            "text/plain": [
              "<Client: scheduler='inproc://172.28.0.2/122/1' processes=1 cores=2>"
            ]
          },
          "metadata": {
            "tags": []
          },
          "execution_count": 3
        }
      ]
    },
    {
      "cell_type": "markdown",
      "metadata": {
        "id": "jlexdlgUUO3r",
        "colab_type": "text"
      },
      "source": [
        "\n",
        "\n",
        "---\n",
        "\n",
        "\n",
        "**Tentative code for rnc2 temporal network**\n",
        "\n",
        "@time\n",
        "\n",
        "Conditions -> Boolean mask -> Contacts -> Edgelist\n",
        "\n",
        "\n",
        "---\n",
        "\n"
      ]
    },
    {
      "cell_type": "code",
      "metadata": {
        "id": "NQZTDiIo1CX_",
        "colab_type": "code",
        "colab": {}
      },
      "source": [
        "# import data\n",
        "folder = Path('/content/drive/My Drive/04_Cloud/01_Work/Academia/01_Publications/00_Alex/005_RNC2')\n",
        "edge_file = folder / 'data' / 'Copy of edge_data.parquet'\n",
        "wind_file = folder / 'data' / 'Copy of GD_wind.csv'\n",
        "\n",
        "wind_data = pd.read_csv(wind_file) \n",
        "edgelist = pd.read_parquet(edge_file, engine='pyarrow')"
      ],
      "execution_count": 0,
      "outputs": []
    },
    {
      "cell_type": "markdown",
      "metadata": {
        "id": "PO0BvtdzZLWk",
        "colab_type": "text"
      },
      "source": [
        "**Conditions**\n",
        "\n",
        "\n",
        "---\n",
        "\n"
      ]
    },
    {
      "cell_type": "code",
      "metadata": {
        "id": "uEsYtoLTMnWM",
        "colab_type": "code",
        "colab": {}
      },
      "source": [
        "def wind_scenario(wind_data):  \n",
        "    i = np.random.randint(0, wind_data.values.shape[0])\n",
        "    w = wind_data.values[i, 2]\n",
        "    dist = wind_data.values[i, 1]\n",
        "    b = wind_data.values[i, 3]\n",
        "    bear_max = b + 45  # wind direction\n",
        "    bear_min = b - 45\n",
        "    if b == 360:\n",
        "        bear_max = 45\n",
        "    if b <= 0:  # should not be necessary\n",
        "        bear_min = 0\n",
        "    if b == 999:\n",
        "        bear_max = 999\n",
        "        bear_min = 0\n",
        "    return bear_max, bear_min, dist # wind characteristics, bearing and distance\n",
        "\n",
        "# ignition ?\n",
        "def condition0(t, e, c):\n",
        "    rng = np.random.uniform(0, 1, size=e.values.shape[0])\n",
        "    return rng < e.IgnProb_bl.values\n",
        "\n",
        "# is this edge.target a new edge.source ?\n",
        "def condition1(t, e, c):\n",
        "    previous_target = e.target.values[c[:, t-1] == True]\n",
        "    return np.in1d(e.target.values, previous_target)\n",
        "\n",
        "# wind direction\n",
        "def condition2(t, e, c, w_bear_max, w_bear_min):\n",
        "    return (e.bearing.values < w_bear_max) & (e.bearing.values > w_bear_min)\n",
        "\n",
        "# wind speed\n",
        "def condition3(t, e, c, w_dist):\n",
        "    return e.distance.values < w_dist\n",
        "\n",
        "# not burnt in previous fires ?\n",
        "def condition4(t, e, c):\n",
        "      mask = c[:,:-1].sum(axis=1)\n",
        "      mask = mask == 0 # == 0 means that no fire previously occured\n",
        "      return mask"
      ],
      "execution_count": 0,
      "outputs": []
    },
    {
      "cell_type": "markdown",
      "metadata": {
        "id": "g9Vq0cczZSy4",
        "colab_type": "text"
      },
      "source": [
        "**Main**\n",
        "\n",
        "\n",
        "---\n",
        "\n"
      ]
    },
    {
      "cell_type": "code",
      "metadata": {
        "id": "W9gJex00Mo9n",
        "colab_type": "code",
        "colab": {}
      },
      "source": [
        "for scenario in range(1):\n",
        "    time = 0 \n",
        "    while True in contact_matrix[:,-1]:  # while still some fires burning\n",
        "        print(\" ******* scenario : {},  time : {} *******\".format(scenario, time))\n",
        "        if time == 0:\n",
        "            list_of_activation = [] # to record fires\n",
        "            contact_matrix = np.full((edgelist.shape[0],1), True) # keep track of contacts in time\n",
        "            wind_bearing_max, wind_bearing_min, wind_distance = wind_scenario(wind_data) # wind conditions for each scenarios\n",
        "            c0 = condition0(time, edgelist, contact_matrix)\n",
        "            contact_matrix[:, time] = c0 # initial ignitions\n",
        "            print(\"condition 0 == True : {} ignitions\".format(c0[c0 == True].shape))\n",
        "        else:\n",
        "            c1 = condition1(time,edgelist,contact_matrix)\n",
        "            c2 = condition2(time,edgelist,contact_matrix,wind_bearing_max, wind_bearing_min)\n",
        "            c3 = condition3(time,edgelist,contact_matrix,wind_distance)\n",
        "            c4 = condition4(time,edgelist,contact_matrix)\n",
        "            print(\"condition 1 == True : {} target -> source\".format(c1[c1 == True].shape))\n",
        "            print(\"condition 2 == True : {} propagation because of wind direction\".format(c2[c2 == True].shape))\n",
        "            print(\"condition 3 == True : {} propagation because of wind speed (distance)\".format(c3[c3 == True].shape))\n",
        "            print(\"condition 4 == True : {} not burnt already\".format(c4[c4 == True].shape))\n",
        "\n",
        "            propagation = c1 & c2 & c3 & c4\n",
        "            print(\"propagation == True : {} propagations\".format(propagation[propagation == True].shape))\n",
        "            contact_matrix = np.c_[contact_matrix, propagation]\n",
        "            print(\"fire burning ? {}\".format(True in contact_matrix[:, -1]))\n",
        "        \n",
        "        # active edges at time\n",
        "        active_edges = edgelist[contact_matrix[:, time] == True]\n",
        "        active_edges['scenario'] = scenario\n",
        "        active_edges['time'] = time\n",
        "        # record acrive edges to list\n",
        "        list_of_activation.append(active_edges.values)\n",
        "        time += 1\n",
        "    else:\n",
        "        # # record active edges in dask and export to parquet\n",
        "        da_scenario = da.concatenate(list_of_activation, axis=1)\n",
        "        # generate dask dataframe\n",
        "        col = ['source', 'target', 'distance', 'bearing', 'IgnProb_bl', 'scenario', 'time']\n",
        "        ddf = dd.from_dask_array(da_scenario, columns=col)\n",
        "        # save to parquet\n",
        "        ddf.to_parquet(folder / 'output' / 'scenario_{}.parquet'.format(scenario))"
      ],
      "execution_count": 0,
      "outputs": []
    },
    {
      "cell_type": "code",
      "metadata": {
        "id": "464T09a9b-rx",
        "colab_type": "code",
        "colab": {}
      },
      "source": [
        ""
      ],
      "execution_count": 0,
      "outputs": []
    }
  ]
}