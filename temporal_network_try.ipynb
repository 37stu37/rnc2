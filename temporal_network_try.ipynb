{
  "nbformat": 4,
  "nbformat_minor": 0,
  "metadata": {
    "kernelspec": {
      "display_name": "Python 3",
      "language": "python",
      "name": "python3"
    },
    "language_info": {
      "codemirror_mode": {
        "name": "ipython",
        "version": 3
      },
      "file_extension": ".py",
      "mimetype": "text/x-python",
      "name": "python",
      "nbconvert_exporter": "python",
      "pygments_lexer": "ipython3",
      "version": "3.7.3"
    },
    "colab": {
      "name": "temporal_network_try.ipynb",
      "provenance": [],
      "include_colab_link": true
    }
  },
  "cells": [
    {
      "cell_type": "markdown",
      "metadata": {
        "id": "view-in-github",
        "colab_type": "text"
      },
      "source": [
        "<a href=\"https://colab.research.google.com/github/37stu37/rnc2/blob/master/temporal_network_try.ipynb\" target=\"_parent\"><img src=\"https://colab.research.google.com/assets/colab-badge.svg\" alt=\"Open In Colab\"/></a>"
      ]
    },
    {
      "cell_type": "code",
      "metadata": {
        "id": "7O35x2t8T4Dk",
        "colab_type": "code",
        "colab": {}
      },
      "source": [
        "%matplotlib inline\n",
        "import matplotlib.pyplot as plt\n",
        "import numpy as np\n",
        "import pandas as pd\n",
        "import sys\n",
        "import networkx as nx\n",
        "from numba import jit"
      ],
      "execution_count": 0,
      "outputs": []
    },
    {
      "cell_type": "markdown",
      "metadata": {
        "id": "jlexdlgUUO3r",
        "colab_type": "text"
      },
      "source": [
        "**Tentative code for rnc2 temporal network**\n",
        "\n",
        "* the idea is to set a maximaly connected network from the start\n",
        "* the network is an adjacency list where we add a third column as a \"contact time\" list\n",
        "* contact times represent the set of active connections at a certain time\n",
        "* static network evolve through time by filtering by the acitve connection at every time step"
      ]
    },
    {
      "cell_type": "code",
      "metadata": {
        "id": "VQPOvXvXWsKG",
        "colab_type": "code",
        "colab": {}
      },
      "source": [
        "# create a random graph\n",
        "numRows = 10000\n",
        "numCols = 2\n",
        "df = pd.DataFrame(index=range(numRows),columns=range(numCols))"
      ],
      "execution_count": 0,
      "outputs": []
    },
    {
      "cell_type": "code",
      "metadata": {
        "id": "qt6LFNK8-eUD",
        "colab_type": "code",
        "colab": {}
      },
      "source": [
        "df[0] = range(10000)\n",
        "df[1] = df[0]*3\n",
        "df.columns = ['source','target']"
      ],
      "execution_count": 0,
      "outputs": []
    },
    {
      "cell_type": "code",
      "metadata": {
        "id": "Afg3WHEIz1_k",
        "colab_type": "code",
        "colab": {}
      },
      "source": [
        "df"
      ],
      "execution_count": 0,
      "outputs": []
    },
    {
      "cell_type": "code",
      "metadata": {
        "id": "rA4FD9ZN-e0p",
        "colab_type": "code",
        "colab": {}
      },
      "source": [
        "arr = np.array(df)"
      ],
      "execution_count": 0,
      "outputs": []
    },
    {
      "cell_type": "code",
      "metadata": {
        "id": "wwNvBH2L_WcA",
        "colab_type": "code",
        "outputId": "26149824-6e8d-405d-a8a0-ca170080af31",
        "colab": {
          "base_uri": "https://localhost:8080/",
          "height": 34
        }
      },
      "source": [
        "arr.shape[0]"
      ],
      "execution_count": 64,
      "outputs": [
        {
          "output_type": "execute_result",
          "data": {
            "text/plain": [
              "10000"
            ]
          },
          "metadata": {
            "tags": []
          },
          "execution_count": 64
        }
      ]
    },
    {
      "cell_type": "code",
      "metadata": {
        "id": "HSQDbiCq_Zpq",
        "colab_type": "code",
        "colab": {}
      },
      "source": [
        "contact = [[] for _ in range(len(df))]\n",
        "contact"
      ],
      "execution_count": 0,
      "outputs": []
    },
    {
      "cell_type": "code",
      "metadata": {
        "id": "tLBFywk5xhKj",
        "colab_type": "code",
        "colab": {
          "base_uri": "https://localhost:8080/",
          "height": 51
        },
        "outputId": "9e85382d-d1c1-40b8-8f36-92888a413128"
      },
      "source": [
        "%%time\n",
        "for i in range(1000):\n",
        "  for c in range(len(df)):\n",
        "    if arr[c,0] > 5:\n",
        "      contact[c].append(i)"
      ],
      "execution_count": 68,
      "outputs": [
        {
          "output_type": "stream",
          "text": [
            "CPU times: user 6.51 s, sys: 151 ms, total: 6.66 s\n",
            "Wall time: 6.67 s\n"
          ],
          "name": "stdout"
        }
      ]
    },
    {
      "cell_type": "code",
      "metadata": {
        "id": "LvqI3t3Z2XPW",
        "colab_type": "code",
        "colab": {}
      },
      "source": [
        "flat_list = [item for sublist in contact for item in sublist]"
      ],
      "execution_count": 0,
      "outputs": []
    },
    {
      "cell_type": "code",
      "metadata": {
        "id": "kYQmnFH40WK0",
        "colab_type": "code",
        "colab": {
          "base_uri": "https://localhost:8080/",
          "height": 34
        },
        "outputId": "520e7f2c-601f-40d0-8927-9b9d31f1f687"
      },
      "source": [
        "print(\"this is number of item in flat list :\", len(flat_list), \"and this is the size in MB :\", sys.getsizeof(contact)/1e6)"
      ],
      "execution_count": 77,
      "outputs": [
        {
          "output_type": "stream",
          "text": [
            "this is number of item in flat list : 19988000 and this is the size in MB : 0.087624\n"
          ],
          "name": "stdout"
        }
      ]
    },
    {
      "cell_type": "code",
      "metadata": {
        "id": "NQZTDiIo1CX_",
        "colab_type": "code",
        "colab": {}
      },
      "source": [
        ""
      ],
      "execution_count": 0,
      "outputs": []
    }
  ]
}