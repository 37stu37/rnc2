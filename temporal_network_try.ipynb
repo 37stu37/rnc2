{
  "nbformat": 4,
  "nbformat_minor": 0,
  "metadata": {
    "kernelspec": {
      "display_name": "Python 3",
      "language": "python",
      "name": "python3"
    },
    "language_info": {
      "codemirror_mode": {
        "name": "ipython",
        "version": 3
      },
      "file_extension": ".py",
      "mimetype": "text/x-python",
      "name": "python",
      "nbconvert_exporter": "python",
      "pygments_lexer": "ipython3",
      "version": "3.7.3"
    },
    "colab": {
      "name": "temporal_network_try.ipynb",
      "provenance": [],
      "include_colab_link": true
    }
  },
  "cells": [
    {
      "cell_type": "markdown",
      "metadata": {
        "id": "view-in-github",
        "colab_type": "text"
      },
      "source": [
        "<a href=\"https://colab.research.google.com/github/37stu37/rnc2/blob/master/temporal_network_try.ipynb\" target=\"_parent\"><img src=\"https://colab.research.google.com/assets/colab-badge.svg\" alt=\"Open In Colab\"/></a>"
      ]
    },
    {
      "cell_type": "code",
      "metadata": {
        "id": "Q60FM7ZmLRAp",
        "colab_type": "code",
        "outputId": "200c1cdd-91e6-4d7e-d05a-b58ac760a7ef",
        "colab": {
          "base_uri": "https://localhost:8080/",
          "height": 122
        }
      },
      "source": [
        "from google.colab import drive\n",
        "drive.mount('/content/drive')"
      ],
      "execution_count": 4,
      "outputs": [
        {
          "output_type": "stream",
          "text": [
            "Go to this URL in a browser: https://accounts.google.com/o/oauth2/auth?client_id=947318989803-6bn6qk8qdgf4n4g3pfee6491hc0brc4i.apps.googleusercontent.com&redirect_uri=urn%3aietf%3awg%3aoauth%3a2.0%3aoob&response_type=code&scope=email%20https%3a%2f%2fwww.googleapis.com%2fauth%2fdocs.test%20https%3a%2f%2fwww.googleapis.com%2fauth%2fdrive%20https%3a%2f%2fwww.googleapis.com%2fauth%2fdrive.photos.readonly%20https%3a%2f%2fwww.googleapis.com%2fauth%2fpeopleapi.readonly\n",
            "\n",
            "Enter your authorization code:\n",
            "··········\n",
            "Mounted at /content/drive\n"
          ],
          "name": "stdout"
        }
      ]
    },
    {
      "cell_type": "code",
      "metadata": {
        "id": "7O35x2t8T4Dk",
        "colab_type": "code",
        "outputId": "e5ccded2-6ea3-4405-a455-049c15de8d36",
        "colab": {
          "base_uri": "https://localhost:8080/",
          "height": 316
        }
      },
      "source": [
        "%matplotlib inline\n",
        "import matplotlib.pyplot as plt\n",
        "import seaborn as sns\n",
        "import numpy as np\n",
        "import pandas as pd\n",
        "import dask.dataframe as dd\n",
        "import dask.array as da\n",
        "import sys\n",
        "import os\n",
        "from pathlib import Path\n",
        "import networkx as nx\n",
        "from numba import jit\n",
        "from dask.distributed import Client\n",
        "pd.options.mode.chained_assignment = None  # default='warn'\n",
        "\n",
        "client = Client(processes=False)\n",
        "client"
      ],
      "execution_count": 3,
      "outputs": [
        {
          "output_type": "stream",
          "text": [
            "/usr/local/lib/python3.6/dist-packages/statsmodels/tools/_testing.py:19: FutureWarning: pandas.util.testing is deprecated. Use the functions in the public API at pandas.testing instead.\n",
            "  import pandas.util.testing as tm\n",
            "/usr/local/lib/python3.6/dist-packages/distributed/bokeh/core.py:57: UserWarning: \n",
            "Failed to start diagnostics server on port 8787. [Errno 99] Cannot assign requested address\n",
            "  warnings.warn('\\n' + msg)\n",
            "/usr/local/lib/python3.6/dist-packages/distributed/deploy/local.py:197: UserWarning: \n",
            "Could not launch service 'bokeh' on port 8787. Got the following message:\n",
            "\n",
            "[Errno 99] Cannot assign requested address\n",
            "  self.scheduler.start(scheduler_address)\n"
          ],
          "name": "stderr"
        },
        {
          "output_type": "execute_result",
          "data": {
            "text/html": [
              "<table style=\"border: 2px solid white;\">\n",
              "<tr>\n",
              "<td style=\"vertical-align: top; border: 0px solid white\">\n",
              "<h3>Client</h3>\n",
              "<ul>\n",
              "  <li><b>Scheduler: </b>inproc://172.28.0.2/126/1\n",
              "</ul>\n",
              "</td>\n",
              "<td style=\"vertical-align: top; border: 0px solid white\">\n",
              "<h3>Cluster</h3>\n",
              "<ul>\n",
              "  <li><b>Workers: </b>1</li>\n",
              "  <li><b>Cores: </b>2</li>\n",
              "  <li><b>Memory: </b>13.65 GB</li>\n",
              "</ul>\n",
              "</td>\n",
              "</tr>\n",
              "</table>"
            ],
            "text/plain": [
              "<Client: scheduler='inproc://172.28.0.2/126/1' processes=1 cores=2>"
            ]
          },
          "metadata": {
            "tags": []
          },
          "execution_count": 3
        }
      ]
    },
    {
      "cell_type": "markdown",
      "metadata": {
        "id": "jlexdlgUUO3r",
        "colab_type": "text"
      },
      "source": [
        "\n",
        "\n",
        "---\n",
        "\n",
        "\n",
        "**Tentative code for rnc2 temporal network**\n",
        "\n",
        "@time\n",
        "\n",
        "Conditions -> Boolean mask -> Contacts -> Edgelist\n",
        "\n",
        "\n",
        "---\n",
        "\n"
      ]
    },
    {
      "cell_type": "code",
      "metadata": {
        "id": "NQZTDiIo1CX_",
        "colab_type": "code",
        "colab": {}
      },
      "source": [
        "# import data\n",
        "folder = Path('/content/drive/My Drive/04_Cloud/01_Work/Academia/01_Publications/00_Alex/005_RNC2')\n",
        "edge_file = folder / 'data' / 'Copy of edge_data.parquet'\n",
        "wind_file = folder / 'data' / 'Copy of GD_wind.csv'\n",
        "\n",
        "wind_data = pd.read_csv(wind_file) \n",
        "edgelist = pd.read_parquet(edge_file, engine='pyarrow')"
      ],
      "execution_count": 0,
      "outputs": []
    },
    {
      "cell_type": "markdown",
      "metadata": {
        "id": "PO0BvtdzZLWk",
        "colab_type": "text"
      },
      "source": [
        "**Conditions**\n",
        "\n",
        "\n",
        "---\n",
        "\n"
      ]
    },
    {
      "cell_type": "code",
      "metadata": {
        "id": "uEsYtoLTMnWM",
        "colab_type": "code",
        "colab": {}
      },
      "source": [
        "def wind_scenario(wind_data):  \n",
        "    i = np.random.randint(0, wind_data.values.shape[0])\n",
        "    w = wind_data.values[i, 2]\n",
        "    dist = wind_data.values[i, 1]\n",
        "    b = wind_data.values[i, 3]\n",
        "    bear_max = b + 45  # wind direction\n",
        "    bear_min = b - 45\n",
        "    if b == 360:\n",
        "        bear_max = 45\n",
        "    if b <= 0:  # should not be necessary\n",
        "        bear_min = 0\n",
        "    if b == 999:\n",
        "        bear_max = 999\n",
        "        bear_min = 0\n",
        "    return bear_max, bear_min, dist # wind characteristics, bearing and distance\n",
        "\n",
        "# ignition ?\n",
        "def mask_ignition_rng(e):\n",
        "    rng = np.random.uniform(0, 1, size=e.values.shape[0])\n",
        "    mask = rng < e.IgnProb_bl.values\n",
        "    return mask*1\n",
        "\n",
        "# wind direction\n",
        "def mask_wind_direction(e, w_bear_max, w_bear_min):\n",
        "    mask = (e.bearing.values < w_bear_max) & (e.bearing.values > w_bear_min) \n",
        "    return mask*1\n",
        "\n",
        "# wind speed\n",
        "def mask_wind_speed(e, w_dist):\n",
        "    mask = e.distance.values < w_dist\n",
        "    return mask*1\n",
        "\n",
        "# not burnt in previous fires ?\n",
        "def mask_burnt(t, e, c):\n",
        "    if t != 1:\n",
        "      previouslyActivated = c[:,:t-1].sum(axis=1)\n",
        "    else:\n",
        "      previouslyActivated = c[:,0]\n",
        "    mask = np.where(previouslyActivated > 0, 1, 0)\n",
        "    # mask = mask == 0 # == 0 means that no fire previously occured\n",
        "    return mask*1\n",
        "\n",
        "# target -> source ?\n",
        "def mask_target_to_source(t, e, c):\n",
        "    previousTargetAtTime = e.target[c[:, t-1] == 1]\n",
        "    mask = np.in1d(e.source.values, previousTargetAtTime.values)\n",
        "    return mask*1"
      ],
      "execution_count": 0,
      "outputs": []
    },
    {
      "cell_type": "markdown",
      "metadata": {
        "id": "g9Vq0cczZSy4",
        "colab_type": "text"
      },
      "source": [
        "**Main**\n",
        "\n",
        "\n",
        "---\n",
        "\n"
      ]
    },
    {
      "cell_type": "code",
      "metadata": {
        "id": "qAnZzNbFnbiO",
        "colab_type": "code",
        "colab": {}
      },
      "source": [
        "# %%time\n",
        "# for scenario in range(100):\n",
        "    # time = 0 \n",
        "    # # initial conditions\n",
        "    # m_ignition_rng = mask_ignition_rng(edgelist)\n",
        "    # print(\"{} ignitions of {} total ~ {} % of buildings\".format(m_ignition_rng.sum(axis=0), edgelist.shape[0], \n",
        "    #                                                     (m_ignition_rng.sum(axis=0) / edgelist.shape[0])* 100))\n",
        "    # ActTime = np.zeros((m_ignition_rng.shape[0],1))\n",
        "    # ActTime[:, 0] = m_ignition_rng\n",
        "    # # wind conditions and mask\n",
        "    # w_direction_max, w_direction_min, w_distance = wind_scenario(wind_data)\n",
        "    # m_wind_direction = mask_wind_direction(edgelist, w_direction_max, w_direction_min)\n",
        "    # m_wind_speed = mask_wind_speed(edgelist, w_distance)\n",
        "    # m_wind = m_wind_direction & m_wind_speed\n",
        "    # # print(\"wind_direction : {}, wind_speed : {}, wind : {}\".format(m_wind_direction[:5], m_wind_speed[:5], m_wind[:5]))\n",
        "    # while ActTime[:,-1].sum(axis=0) != 0:\n",
        "    #     time += 1\n",
        "    #     print('{} still burning @ time {} ########'.format(int(ActTime[:,-1].sum(axis=0)), time))\n",
        "    #     # fire mask\n",
        "    #     m_targetSource = mask_target_to_source(time, edgelist, ActTime)\n",
        "    #     print(\"{} target to source\".format(m_targetSource.sum(axis=0)))\n",
        "    #     m_burnt = mask_burnt(time, edgelist, ActTime)\n",
        "    #     print(\"{} burnt\".format(m_burnt.sum(axis=0)))\n",
        "    #     m_fire = m_burnt & m_targetSource\n",
        "    #     print(\"{} fire\".format(m_fire.sum(axis=0)))\n",
        "    #     # cumulated mask\n",
        "    #     m_propagated= m_wind & m_fire\n",
        "    #     print(\"{} propagated\".format(m_propagated.sum(axis=0)))\n",
        "    #     # append the activated layers to ActTime\n",
        "    #     ActTime = np.c_[ActTime, m_propagated]\n",
        "    #     print(\"ActTime : {}\".format(ActTime.shape))\n",
        "    #     # get the active edges\n",
        "    #     ActEdges = edgelist[ActTime[:,time] == 1]\n",
        "    #     print(\"ActEdges : {}\".format(ActEdges.shape))"
      ],
      "execution_count": 0,
      "outputs": []
    },
    {
      "cell_type": "code",
      "metadata": {
        "id": "pLBvdq4kFYnH",
        "colab_type": "code",
        "colab": {}
      },
      "source": [
        "def wind_scenario(t, wind_data):\n",
        "    if t == 0:\n",
        "      i = np.random.randint(0, wind_data.values.shape[0])\n",
        "      w = wind_data.values[i, 2]\n",
        "      dist = wind_data.values[i, 1]\n",
        "      b = wind_data.values[i, 3]\n",
        "      bear_max = b + 45  # wind direction\n",
        "      bear_min = b - 45\n",
        "      if b == 360:\n",
        "          bear_max = 45\n",
        "      if b <= 0:  # should not be necessary\n",
        "          bear_min = 0\n",
        "      if b == 999:\n",
        "          bear_max = 999\n",
        "          bear_min = 0\n",
        "      return bear_max, bear_min, dist # wind characteristics, bearing and distance\n",
        "    else:\n",
        "      return\n",
        "\n",
        "def wind_mask(e, w_bearing_max, w_bearing_min, w_distance):\n",
        "    mask1 = (e.bearing.values < w_bearing_max) & (e.bearing.values > w_bearing_min)\n",
        "    mask2 = e.distance.values < w_distance\n",
        "    mask = mask1 & mask2\n",
        "    return mask*1\n",
        "\n",
        "def ignition_mask(t, e, c):\n",
        "    # initial ignition\n",
        "    if t == 0:\n",
        "      rng = np.random.uniform(0, 1, size=e.values.shape[0])\n",
        "      mask = rng < e.IgnProb_bl.values\n",
        "      return mask*1\n",
        "    else:\n",
        "    # propagation\n",
        "      mask_previous_time = c.iloc[:, t-1] == 1\n",
        "      previousTarget = e.target.iloc[mask_previous_time]\n",
        "      mask = np.in1d(e.source.values, previousTarget.values)\n",
        "      return mask*1\n",
        "\n",
        "def burnt_mask(t, e, c):\n",
        "    if t > 1:\n",
        "      previouslyActivated = c.iloc[:,:t-1]\n",
        "      previouslyActivated_sum = previouslyActivated.sum(axis=1)\n",
        "      mask = np.where(previouslyActivated_sum> 0, 1, 0)\n",
        "    else:\n",
        "      mask = c.iloc[:,0].values\n",
        "    return mask*1"
      ],
      "execution_count": 0,
      "outputs": []
    },
    {
      "cell_type": "code",
      "metadata": {
        "id": "Q7pHNrjZN8Zw",
        "colab_type": "code",
        "colab": {
          "base_uri": "https://localhost:8080/",
          "height": 320
        },
        "outputId": "878333ce-167a-409e-e6b0-b7b963272ced"
      },
      "source": [
        "n=1\n",
        "for scenario in range(n):\n",
        "    time = 0 \n",
        "    CoTime = pd.DataFrame(np.ones((len(edgelist), 1)))\n",
        "    bear_max, bear_min, distance = wind_scenario(time, wind_data)\n",
        "    while CoTime.iloc[:,-1].sum(axis=0) > 0:\n",
        "        print(\"scenario : {} time : {}\".format(scenario, time))\n",
        "        # ignititon and propagation\n",
        "        ignition_m = ignition_mask(time, edgelist, CoTime)\n",
        "        print(type(ignition_m))\n",
        "        # targets under the wind\n",
        "        wind_m = wind_mask(edgelist, bear_max, bear_min, distance)\n",
        "        print(type(wind_m))\n",
        "        # not already burnt\n",
        "        burnt_m = burnt_mask(time, edgelist, CoTime)\n",
        "        print(type(burnt_m))\n",
        "        # resulting mask\n",
        "        mask == (ignition_m & wind_m & burnt_m)\n",
        "        mask = np.where(mask> 0, 1, 0)\n",
        "        ActiveEdges = edgelist[mask]\n",
        "        print(\"number of active edges : {}\".format(len(ActiveEdges)))\n",
        "        time += 1"
      ],
      "execution_count": 31,
      "outputs": [
        {
          "output_type": "stream",
          "text": [
            "scenario : 0 time : 0\n",
            "<class 'numpy.ndarray'>\n",
            "<class 'numpy.ndarray'>\n",
            "<class 'numpy.ndarray'>\n"
          ],
          "name": "stdout"
        },
        {
          "output_type": "error",
          "ename": "TypeError",
          "evalue": "ignored",
          "traceback": [
            "\u001b[0;31m---------------------------------------------------------------------------\u001b[0m",
            "\u001b[0;31mTypeError\u001b[0m                                 Traceback (most recent call last)",
            "\u001b[0;32m<ipython-input-31-ec142d75bb8e>\u001b[0m in \u001b[0;36m<module>\u001b[0;34m()\u001b[0m\n\u001b[1;32m     16\u001b[0m         \u001b[0mprint\u001b[0m\u001b[0;34m(\u001b[0m\u001b[0mtype\u001b[0m\u001b[0;34m(\u001b[0m\u001b[0mburnt_m\u001b[0m\u001b[0;34m)\u001b[0m\u001b[0;34m)\u001b[0m\u001b[0;34m\u001b[0m\u001b[0;34m\u001b[0m\u001b[0m\n\u001b[1;32m     17\u001b[0m         \u001b[0;31m# resulting mask\u001b[0m\u001b[0;34m\u001b[0m\u001b[0;34m\u001b[0m\u001b[0;34m\u001b[0m\u001b[0m\n\u001b[0;32m---> 18\u001b[0;31m         \u001b[0mmask\u001b[0m \u001b[0;34m==\u001b[0m \u001b[0;34m(\u001b[0m\u001b[0mignition_m\u001b[0m \u001b[0;34m&\u001b[0m \u001b[0mwind_m\u001b[0m \u001b[0;34m&\u001b[0m \u001b[0mburnt_m\u001b[0m\u001b[0;34m)\u001b[0m\u001b[0;34m\u001b[0m\u001b[0;34m\u001b[0m\u001b[0m\n\u001b[0m\u001b[1;32m     19\u001b[0m         \u001b[0mmask\u001b[0m \u001b[0;34m=\u001b[0m \u001b[0mnp\u001b[0m\u001b[0;34m.\u001b[0m\u001b[0mwhere\u001b[0m\u001b[0;34m(\u001b[0m\u001b[0mmask\u001b[0m\u001b[0;34m>\u001b[0m \u001b[0;36m0\u001b[0m\u001b[0;34m,\u001b[0m \u001b[0;36m1\u001b[0m\u001b[0;34m,\u001b[0m \u001b[0;36m0\u001b[0m\u001b[0;34m)\u001b[0m\u001b[0;34m\u001b[0m\u001b[0;34m\u001b[0m\u001b[0m\n\u001b[1;32m     20\u001b[0m         \u001b[0mActiveEdges\u001b[0m \u001b[0;34m=\u001b[0m \u001b[0medgelist\u001b[0m\u001b[0;34m[\u001b[0m\u001b[0mmask\u001b[0m\u001b[0;34m]\u001b[0m\u001b[0;34m\u001b[0m\u001b[0;34m\u001b[0m\u001b[0m\n",
            "\u001b[0;31mTypeError\u001b[0m: ufunc 'bitwise_and' not supported for the input types, and the inputs could not be safely coerced to any supported types according to the casting rule ''safe''"
          ]
        }
      ]
    }
  ]
}